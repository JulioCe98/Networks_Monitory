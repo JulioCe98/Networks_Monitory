{
 "cells": [
  {
   "cell_type": "markdown",
   "metadata": {},
   "source": [
    "# Ejemplos TCP + UDP"
   ]
  },
  {
   "cell_type": "markdown",
   "metadata": {},
   "source": [
    "---"
   ]
  },
  {
   "cell_type": "markdown",
   "metadata": {},
   "source": [
    "# 1. Ejemplo TCP : Pedir mis datos al servidor"
   ]
  },
  {
   "cell_type": "markdown",
   "metadata": {},
   "source": [
    "## 1.1 Server"
   ]
  },
  {
   "cell_type": "code",
   "execution_count": null,
   "metadata": {},
   "outputs": [],
   "source": [
    "\n",
    "import java.io.DataInputStream;\n",
    "import java.io.DataOutputStream;\n",
    "import java.io.IOException;\n",
    "import java.net.ServerSocket;\n",
    "import java.net.Socket;\n",
    "\n",
    "public class Server {\n",
    "\t\n",
    "\t\n",
    "\t/**\n",
    "\t * Puerto por donde el servidor atendera a los clientes\n",
    "\t */\n",
    "\tpublic static final int PORT = 8000;\n",
    "\t/**\n",
    "\t * El servidor dispone de un serversocket, para permitir la conexion a los clientes\n",
    "\t */\n",
    "\tprivate static  ServerSocket serverSocket;\n",
    "\t/**\n",
    "\t * El servidor dispone de un socket para atender a cada cliente por individual\n",
    "\t */\n",
    "\tprivate static Socket socket;\n",
    "\t\n",
    "\n",
    "\t\n",
    "\t\n",
    "\tpublic static void main(String[] args) {\n",
    "\t\t\n",
    "\t\tDataInputStream in;\n",
    "\t\tDataOutputStream out;\n",
    "\t\t\n",
    "\t\ttry {\n",
    "\t\t\tserverSocket = new ServerSocket(PORT);\n",
    "\t\t\tSystem.out.println(\"::Servidor escuchando a los posibles clientes::\");\n",
    "\t\t\t\n",
    "\t\t\twhile(true) {\n",
    "\t\t\t\t\n",
    "\t\t\t\tsocket = serverSocket.accept();\n",
    "\t\t\t\tSystem.out.println(\"El cliente se ha conectado!\");\n",
    "\t\t\t\tin = new DataInputStream(socket.getInputStream());\n",
    "\t\t\t\tout = new DataOutputStream(socket.getOutputStream());\n",
    "\t\t\t\tString mensajeObtenidoCliente = in.readUTF();\n",
    "\t\t\t\tif(mensajeObtenidoCliente.compareTo(\"LISTO\")==0) {\n",
    "\t\t\t\t\tString respuestaServer = socket.getInetAddress().getHostAddress()+\";\"+socket.getPort();\n",
    "\t\t\t\t\tout.writeUTF(respuestaServer);\n",
    "\t\t\t\t\t\n",
    "\t\t\t\t}\n",
    "\t\t\t\tsocket.close();\n",
    "\t\t\t\tSystem.out.println(\"::El cliente fue desconectado del server::\");\n",
    "\t\t\t\n",
    "\t\t\t\n",
    "\t\t\t}\n",
    "\t\t\t\n",
    "\t\t\t\n",
    "\t\t\t\n",
    "\t\t\t\n",
    "\t\t\t\n",
    "\t\t\t\n",
    "\t\t\t\n",
    "\t\t} catch (IOException e) {\n",
    "\t\t\t// TODO Auto-generated catch block\n",
    "\t\t\te.printStackTrace();\n",
    "\t\t}\n",
    "\t\t\n",
    "\t\t\n",
    "\t\t\n",
    "\t\t\n",
    "\t}\n",
    "\n",
    "\n",
    "\n",
    "\t\n",
    "\t\n",
    "\n",
    "}\n"
   ]
  },
  {
   "cell_type": "markdown",
   "metadata": {},
   "source": [
    "## 1.2 Cliente"
   ]
  },
  {
   "cell_type": "code",
   "execution_count": null,
   "metadata": {},
   "outputs": [],
   "source": [
    "\n",
    "import java.io.BufferedReader;\n",
    "import java.io.BufferedWriter;\n",
    "import java.io.DataInputStream;\n",
    "import java.io.DataOutputStream;\n",
    "import java.io.InputStreamReader;\n",
    "import java.io.OutputStreamWriter;\n",
    "import java.net.Socket;\n",
    "\n",
    "public class Client {\n",
    "\t\n",
    "\t/*\n",
    "\t * \n",
    "\t * Direccion local de la maquina\n",
    "\t */\n",
    "\tpublic static final String LOCAL_HOST = \"localhost\";\n",
    "\t/**\n",
    "\t * Puerto por donde se establecera la conexion\n",
    "\t */\n",
    "\tpublic static final int PORT = 8000;\n",
    "\t/**\n",
    "\t * Socket que permitira la conexion con el servidor\n",
    "\t */\n",
    "\tprivate static Socket socket;\n",
    "\t\n",
    "\t/**\n",
    "\t * Main\n",
    "\t * @param args\n",
    "\t */\n",
    "\tpublic static void main(String[] args) {\n",
    "\t\t\n",
    "\t\tDataInputStream in;\n",
    "\t\tDataOutputStream out;\n",
    "\n",
    "\t\ttry {\n",
    "\t\t\t\n",
    "\t\t\tBufferedReader br = new BufferedReader(new InputStreamReader( System.in));\n",
    "\t\t\tBufferedWriter bw = new BufferedWriter(new OutputStreamWriter(System.out));\n",
    "\t\t\t\n",
    "\t\t\tSystem.out.println(\"::Cliente disponible para ser atendido:: \\nIngrese \"\n",
    "\t\t\t\t\t+ \"La palabra LISTO para obtener su dir ip y puerto de conexion!!::\");\n",
    "\t\t\t\n",
    "\t\t\tsocket = new Socket(LOCAL_HOST, PORT);\n",
    "\t\t\tString mensaje = br.readLine();\n",
    "\t\t\tin = new DataInputStream(socket.getInputStream());\n",
    "\t\t\tout = new DataOutputStream(socket.getOutputStream());\n",
    "\t\t\tout.writeUTF(mensaje);\n",
    "\t\t\tString mensajeDelServidor = in.readUTF();\n",
    "\t\t\tString[] mensajeServ = mensajeDelServidor.split(\";\");\n",
    "\t\t\tbw.write(\"Su Direccion ip es : \" + mensajeServ[0]+\"\\n\");\n",
    "\t\t\tbw.write(\"Su Puerto de conexion es : \" + mensajeServ[1]);\n",
    "\t\t\tbw.flush();\n",
    "\t\t\tbw.close();\n",
    "\t\t\tbr.close();\n",
    "\t\t\tsocket.close();\n",
    "\t\t\tin.close();\n",
    "\t\t\tout.close();\n",
    "\n",
    "\t\t} catch (Exception e) {\n",
    "\t\t\t// TODO: handle exception\n",
    "\t\t}\n",
    "\t\t\n",
    "\t\t\n",
    "\t}\n",
    "\t\n",
    "\n",
    "}\n"
   ]
  },
  {
   "cell_type": "markdown",
   "metadata": {},
   "source": [
    "Link : "
   ]
  },
  {
   "cell_type": "markdown",
   "metadata": {},
   "source": [
    "## 1.3 Reto TCP"
   ]
  },
  {
   "cell_type": "markdown",
   "metadata": {},
   "source": [
    "Link : https://github.com/JulioCe98/Networks_Monitory/tree/master/Retos"
   ]
  },
  {
   "cell_type": "markdown",
   "metadata": {},
   "source": [
    "---"
   ]
  },
  {
   "cell_type": "markdown",
   "metadata": {},
   "source": [
    "# 2 UDP"
   ]
  },
  {
   "cell_type": "markdown",
   "metadata": {},
   "source": [
    "## 2.1 Datagram Channel"
   ]
  },
  {
   "cell_type": "markdown",
   "metadata": {},
   "source": [
    "### 2.1.1 Server"
   ]
  },
  {
   "cell_type": "code",
   "execution_count": null,
   "metadata": {},
   "outputs": [],
   "source": [
    " package Schema;\n",
    "\n",
    "\n",
    "import java.net.DatagramSocket;\n",
    "import java.net.InetSocketAddress;\n",
    "import java.net.SocketAddress;\n",
    "import java.nio.ByteBuffer;\n",
    "import java.nio.channels.DatagramChannel;\n",
    "\n",
    "public class UDPEchoServerWithChannels {\n",
    "\t\n",
    "\t/**\n",
    "\t * \n",
    "\t * Introduccion\n",
    "\t * \n",
    "\t * DatagramChannel : \n",
    "\t * \n",
    "\t * 1) Es mucho mas \"No bloqueante\" que UDP\n",
    "\t * 2) Si mucho tiene que esperar a que se borre el buffer local\n",
    "\t * 3) No debe esperar a que un cliente este listo para recibir datos\n",
    "\t * 4) No se detiene si un cliente esta esperando a que otro reciba\n",
    "\t * \n",
    "\t * \n",
    "\t * \n",
    "\t * \n",
    "\t * ECHO \n",
    "\t * \n",
    "\t * 1) Permite visualizar si se estan perdiendo paquetes al enviar 100 enteros\n",
    "\t * \n",
    "\t */\n",
    "\t\n",
    "\t\n",
    "\t\n",
    "\t\n",
    "\tpublic static final int PORT = 8500;\n",
    "\tpublic static final int MAX_PACKET_SIZE = 65507;\n",
    "\n",
    "\tpublic static void main(String[] args) {\n",
    "\t\ttry {\n",
    "\t\t\tDatagramChannel channel = DatagramChannel.open();\n",
    "\t\t\tDatagramSocket socket = channel.socket();\n",
    "\t\t\tSocketAddress address = new InetSocketAddress(PORT);\n",
    "\t\t\tsocket.bind(address);\n",
    "\t\t\tByteBuffer buffer = ByteBuffer.allocateDirect(MAX_PACKET_SIZE);\n",
    "\t\t\twhile(true) {\n",
    "\t\t\t\tSocketAddress client = channel.receive(buffer);\n",
    "\t\t\t\t//resetea el buffer para recibir nuevos datos (vuelve a la posicion 0)\n",
    "\t\t\t\tbuffer.flip();\n",
    "\t\t\t\tchannel.send(buffer, client);\n",
    "\t\t\t\t//limpia el buffer\n",
    "\t\t\t\tbuffer.clear();\n",
    "\t\t\t}\n",
    "\t\t}\n",
    "\t\tcatch (Exception e) {\n",
    "\t\t\tSystem.err.println(e);\n",
    "\t\t\t}\n",
    "\t\t\n",
    "\t\t\n",
    "\t\t\n",
    "\t\t\n",
    "\t\t\n",
    "\t}\n",
    "\n",
    "\n",
    "\n",
    "\n",
    "}\n"
   ]
  },
  {
   "cell_type": "markdown",
   "metadata": {},
   "source": [
    "### 2.1.2 Client"
   ]
  },
  {
   "cell_type": "code",
   "execution_count": null,
   "metadata": {},
   "outputs": [],
   "source": [
    "package Schema;\n",
    "\n",
    "import java.net.InetSocketAddress;\n",
    "import java.net.SocketAddress;\n",
    "import java.nio.ByteBuffer;\n",
    "import java.nio.channels.DatagramChannel;\n",
    "import java.nio.channels.SelectionKey;\n",
    "import java.nio.channels.Selector;\n",
    "import java.util.Iterator;\n",
    "import java.util.Set;\n",
    "\n",
    "public class UDPEchoClientWithChannels {\n",
    "\n",
    "\tpublic static final int PORT = 8500;\n",
    "\tpublic static final int LIMIT = 100;\n",
    "\n",
    "\tpublic static void main(String[] args) {\n",
    "\t\tSocketAddress remote = null;\n",
    "\t\ttry {\n",
    "\t\t\tremote = new InetSocketAddress(\"127.0.0.1\", PORT);\n",
    "\t\t\t\n",
    "\t\t} catch (RuntimeException e) {\n",
    "\t\t\t\n",
    "\t\t\tSystem.err.println(\"Usage: Java UDPEchoClientWithChannels host\");\n",
    "\n",
    "\t\t}\n",
    "\t\t\n",
    "\t\ttry (DatagramChannel channel = DatagramChannel.open()){\n",
    "\t\t\t/**\n",
    "* protected abstract void implConfigureBlocking(boolean block)\n",
    "                                       throws IOException\n",
    "Adjusts this channel's blocking mode.\n",
    "This method is invoked by the configureBlocking method in order to perform the actual work of changing the blocking mode. This method is only invoked if the new mode is different from the current mode.\n",
    "\n",
    "Parameters:\n",
    "block - If true then this channel will be placed in blocking mode; if false then it will be placed non-blocking mode\n",
    "Throws:\n",
    "IOException - If an I/O error occurs\n",
    "\n",
    "Perform : Realizar;\n",
    "\t\t\t */\n",
    "\t\t\tchannel.configureBlocking(false);\n",
    "\t\t\tchannel.connect(remote);\n",
    "\t\t\tSelector selector = Selector.open();\n",
    "\t\t\t/**\n",
    "* public final SelectionKey register(Selector sel,\n",
    "                                   int ops)\n",
    "                            throws ClosedChannelException\n",
    "Registers this channel with the given selector, returning a selection key.\n",
    "An invocation of this convenience method of the form\n",
    "\n",
    "sc.register(sel, ops)\n",
    "behaves in exactly the same way as the invocation\n",
    "sc.register(sel, ops, null)\n",
    "Parameters:\n",
    "sel - The selector with which this channel is to be registered\n",
    "ops - The interest set for the resulting key\n",
    "Returns:\n",
    "A key representing the registration of this channel with the given selector\n",
    "\t\t\t */\n",
    "\t\t\tchannel.register(selector, SelectionKey.OP_READ | SelectionKey.OP_WRITE);\n",
    "\t\t\t/**\n",
    "\t\t\t * public static ByteBuffer allocate(int capacity)\n",
    "Allocates a new byte buffer.\n",
    "The new buffer's position will be zero, its limit will be its capacity, its mark will be undefined, and each of its elements will be initialized to zero. \n",
    "It will have a backing array, and its array offset will be zero.\n",
    "\n",
    "Parameters:\n",
    "capacity - The new buffer's capacity, in bytes\n",
    "Returns:\n",
    "The new byte buffer\n",
    "\t\t\t */\n",
    "\t\t\tByteBuffer buffer = ByteBuffer.allocate(4);\n",
    "\t\t\tint n = 0;\n",
    "\t\t\tint numbersRead = 0;\n",
    "\t\t\twhile(true) {\n",
    "\t\t\t\tif(numbersRead == LIMIT) break;\n",
    "\t\t\t\t//wait one minute for a connection\n",
    "\t\t\t\tselector.select(60000);\n",
    "\t\t\t\tSet<SelectionKey> readyKeys = selector.selectedKeys();\n",
    "\t\t\t\tif(readyKeys.isEmpty() && n==LIMIT) {\n",
    "\t\t\t\t\t/**\n",
    "\t\t\t\t\t *  All packets have been written and it doesn't look like any \n",
    "\t\t\t\t\t *  more are will arrive from the network\n",
    "\t\t\t\t\t */\n",
    "\t\t\t\t\tbreak;\n",
    "\t\t\t\t}\n",
    "\t\t\t\telse {\n",
    "\t\t\t\t\tIterator<SelectionKey> iterator = readyKeys.iterator();\n",
    "\t\t\t\t\twhile(iterator.hasNext()) {\n",
    "\t\t\t\t\t\tSelectionKey key = (SelectionKey)iterator.next();\n",
    "\t\t\t\t\t\titerator.remove();\n",
    "\t\t\t\t\t\tif(key.isReadable()) {\n",
    "\t\t\t\t\t\t\tbuffer.clear();\n",
    "\t\t\t\t\t\t\tchannel.read(buffer);\n",
    "\t\t\t\t\t\t\tbuffer.flip();\n",
    "\t\t\t\t\t\t\tint echo = buffer.getInt();\n",
    "\t\t\t\t\t\t\tSystem.out.println(\"Read : \" + echo);\n",
    "\t\t\t\t\t\t\tnumbersRead++;\n",
    "\t\t\t\t\t\t}\n",
    "\t\t\t\t\t\tif (key.isWritable()) {\n",
    "\t\t\t\t\t\t\tbuffer.clear();\n",
    "\t\t\t\t\t\t\tbuffer.putInt(n);\n",
    "\t\t\t\t\t\t\tbuffer.flip();\n",
    "\t\t\t\t\t\t\tchannel.write(buffer);\n",
    "\t\t\t\t\t\t\tSystem.out.println(\"Wrote : \" + n);\n",
    "\t\t\t\t\t\t\tn++;\n",
    "\t\t\t\t\t\t\tif (n==LIMIT) {\n",
    "\t\t\t\t\t\t\t\tkey.interestOps(SelectionKey.OP_READ);\n",
    "\t\t\t\t\t\t\t}\n",
    "\t\t\t\t\t\t}\n",
    "\t\t\t\t\t}\n",
    "\t\t\t\t}\n",
    "\t\t\t}\n",
    "\t\t\tSystem.out.println(\"Echoed \" + numbersRead + \" out of \" + LIMIT + \" sent\");\n",
    "\t\t\tSystem.out.println(\"Success rate : \" + (100.0 * (numbersRead/LIMIT)) + \"%\");\n",
    "\t\t\t\n",
    "\t\t} catch (Exception e) {\n",
    "\t\t\tSystem.err.println(e);\n",
    "\t\t}\n",
    "\t\t\t\n",
    "\t\t\n",
    "\t}\n",
    "\t\n",
    "}\n"
   ]
  },
  {
   "cell_type": "markdown",
   "metadata": {},
   "source": [
    "Link: "
   ]
  },
  {
   "cell_type": "markdown",
   "metadata": {},
   "source": [
    "## 2.1.3 Funcionamiento"
   ]
  },
  {
   "cell_type": "markdown",
   "metadata": {},
   "source": []
  },
  {
   "cell_type": "markdown",
   "metadata": {},
   "source": [
    "<img src=\"./Resources/dc1.png\">"
   ]
  },
  {
   "cell_type": "markdown",
   "metadata": {},
   "source": [
    "---"
   ]
  },
  {
   "cell_type": "markdown",
   "metadata": {},
   "source": [
    "## 3 UDP Scanner"
   ]
  },
  {
   "cell_type": "code",
   "execution_count": null,
   "metadata": {},
   "outputs": [],
   "source": [
    "package Schema;\n",
    "\n",
    "import java.net.DatagramSocket;\n",
    "import java.net.SocketException;\n",
    "\n",
    "public class ScannerUDP {\n",
    "\t\n",
    "\t\n",
    "\tpublic static void Scanning() {\n",
    "\t\tfor (int i = 1024; i <= 65535; i++) {\n",
    "\t\t\ttry {\n",
    "\t\t\t\tDatagramSocket dt = new DatagramSocket(i);\n",
    "\t\t\t\tdt.close();\n",
    "\t\t\t} catch (SocketException e) {\n",
    "\t\t\t\tSystem.out.println(\"There is a server on port : \"+ i );\n",
    "\t\t\t}\n",
    "\t\t}\n",
    "\t}\n",
    "\t\n",
    "\tpublic static void main(String[] args) {\n",
    "\t\t\n",
    "\t\tScanning();\n",
    "\t\t\n",
    "\t}\n",
    "\n",
    "}\n"
   ]
  },
  {
   "cell_type": "markdown",
   "metadata": {},
   "source": [
    "### 3.1 Funcionamiento"
   ]
  },
  {
   "cell_type": "markdown",
   "metadata": {},
   "source": [
    "1. **Dar click en ejecutar**"
   ]
  },
  {
   "cell_type": "markdown",
   "metadata": {},
   "source": [
    "<img src=\"./Resources/sc1.png\">"
   ]
  },
  {
   "cell_type": "markdown",
   "metadata": {},
   "source": [
    "Como se puede evidenciar en la anterior foto, se puede ver que el algoritmo realiza un **PING** a los puertos para saber que servicio tiene. Una vez con este servicio, verifica si es **UDP** y lo imprime por consola!"
   ]
  },
  {
   "cell_type": "markdown",
   "metadata": {},
   "source": [
    "---"
   ]
  },
  {
   "cell_type": "markdown",
   "metadata": {},
   "source": [
    "# 4. Reto 5 :Ejemplos propuestos por los estudiantes"
   ]
  },
  {
   "cell_type": "markdown",
   "metadata": {},
   "source": [
    "Link: https://github.com/JulioCe98/Networks_Monitory/tree/master/Retos"
   ]
  },
  {
   "cell_type": "markdown",
   "metadata": {},
   "source": []
  }
 ],
 "metadata": {
  "kernelspec": {
   "display_name": "Python 3",
   "language": "python",
   "name": "python3"
  },
  "language_info": {
   "codemirror_mode": {
    "name": "ipython",
    "version": 3
   },
   "file_extension": ".py",
   "mimetype": "text/x-python",
   "name": "python",
   "nbconvert_exporter": "python",
   "pygments_lexer": "ipython3",
   "version": "3.7.1"
  }
 },
 "nbformat": 4,
 "nbformat_minor": 2
}
