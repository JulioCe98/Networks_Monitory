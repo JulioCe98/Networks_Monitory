{
 "cells": [
  {
   "cell_type": "markdown",
   "metadata": {},
   "source": [
    "# Semana 11 : Introduccion a HTML y CSS"
   ]
  },
  {
   "cell_type": "markdown",
   "metadata": {},
   "source": [
    "---"
   ]
  },
  {
   "cell_type": "markdown",
   "metadata": {},
   "source": [
    "# 1. Introduccion a HTML"
   ]
  },
  {
   "cell_type": "markdown",
   "metadata": {},
   "source": [
    "<img src=\"./Resources/html.png\">"
   ]
  },
  {
   "cell_type": "markdown",
   "metadata": {},
   "source": [
    "**HTML** es un lenguaje de marcado que se utiliza para el desarrollo de páginas de Internet. Se trata de la siglas que corresponden a **HyperText Markup Language**, es decir, **Lenguaje de Marcas de Hipertexto**”"
   ]
  },
  {
   "cell_type": "markdown",
   "metadata": {},
   "source": [
    "## 1.1 Algunos elementos en HTML"
   ]
  },
  {
   "cell_type": "markdown",
   "metadata": {},
   "source": [
    "### 1.1.1 Esquema General"
   ]
  },
  {
   "cell_type": "markdown",
   "metadata": {},
   "source": [
    "<img src=\"./Resources/esquema.png\">"
   ]
  },
  {
   "cell_type": "markdown",
   "metadata": {},
   "source": [
    "1. El elemento HTML **HEAD** provee información general (metadatos) acerca del documento, incluyendo su título y enlaces a scripts y hojas de estilos.\n",
    "\n"
   ]
  },
  {
   "cell_type": "markdown",
   "metadata": {},
   "source": [
    "2. El Elemento HTML **body** representa el contenido de un documento HTML. Sólo puede haber un elemento **body** en un documento."
   ]
  },
  {
   "cell_type": "markdown",
   "metadata": {},
   "source": [
    "### 1.1.2 Titulos en HTML"
   ]
  },
  {
   "cell_type": "markdown",
   "metadata": {},
   "source": [
    "<img src=\"./Resources/title.png\">"
   ]
  },
  {
   "cell_type": "markdown",
   "metadata": {},
   "source": [
    "Un titulo se representa usando la etiqueta H1 (visualizacion en la grafica anterior). Es usado para resaltar un titulo de la pagina o un titulo de un parrafo"
   ]
  },
  {
   "cell_type": "markdown",
   "metadata": {},
   "source": [
    "#### 1.1.2.1 Tipos de titulos"
   ]
  },
  {
   "cell_type": "markdown",
   "metadata": {},
   "source": [
    "Usamos la misma etiqueta, tan solo cambiando el digito que acompaña la H"
   ]
  },
  {
   "cell_type": "markdown",
   "metadata": {},
   "source": [
    "<img src=\"./Resources/titulos.png\">"
   ]
  },
  {
   "cell_type": "markdown",
   "metadata": {},
   "source": [
    "---"
   ]
  },
  {
   "cell_type": "markdown",
   "metadata": {},
   "source": [
    "### 1.1.3 Etiquetas DIV y SPAN"
   ]
  },
  {
   "cell_type": "markdown",
   "metadata": {},
   "source": [
    "1. La etiqueta **DIV** nos sirve para crear secciones o agrupar contenidos. Es un **elemento en BLOQUE**"
   ]
  },
  {
   "cell_type": "markdown",
   "metadata": {},
   "source": [
    "<img src=\"./Resources/div.png\">"
   ]
  },
  {
   "cell_type": "markdown",
   "metadata": {},
   "source": [
    "2. La etiqueta **Span** es un contenedor en línea. Sirve para aplicar estilo al texto o agrupar elementos en línea. Es un elemento **en LINEA**"
   ]
  },
  {
   "cell_type": "markdown",
   "metadata": {},
   "source": [
    "<img src=\"./Resources/span.png\">"
   ]
  },
  {
   "cell_type": "markdown",
   "metadata": {},
   "source": [
    "---"
   ]
  },
  {
   "cell_type": "markdown",
   "metadata": {},
   "source": [
    "### 1.1.4 Parrafos en HTML"
   ]
  },
  {
   "cell_type": "markdown",
   "metadata": {},
   "source": [
    "Utilizamos la etiqueta : "
   ]
  },
  {
   "cell_type": "markdown",
   "metadata": {},
   "source": [
    "<img src=\"./Resources/p.png\">"
   ]
  },
  {
   "cell_type": "markdown",
   "metadata": {},
   "source": [
    "El texto que se encuentra en el interior, lo podemos hacer nosotros mismos o tan solo escribir **LOREM** y la teclas **control + space**"
   ]
  },
  {
   "cell_type": "markdown",
   "metadata": {},
   "source": [
    "---"
   ]
  },
  {
   "cell_type": "markdown",
   "metadata": {},
   "source": [
    "### 1.1.5 Formularios en HTML"
   ]
  },
  {
   "cell_type": "markdown",
   "metadata": {},
   "source": [
    "Utilizamos las etiqueta :"
   ]
  },
  {
   "cell_type": "markdown",
   "metadata": {},
   "source": [
    "<img src=\"./Resources/form.png\">"
   ]
  },
  {
   "cell_type": "markdown",
   "metadata": {},
   "source": [
    "1. La etiqueta **form** nos indica que haremos uso de un formulario. Su utilidad es para el envio y registro de datos por ejemplo en una base de datos"
   ]
  },
  {
   "cell_type": "markdown",
   "metadata": {},
   "source": [
    "2. La etiqueta **Label** crea una etiqueta (valga la redundancia). Se usa para indicar que debe ingresar el usuario en ese campo"
   ]
  },
  {
   "cell_type": "markdown",
   "metadata": {},
   "source": [
    "3. La etiqueta **input** crea un \"textfield\", donde el usuario puede ingresar los datos. Es importante definir el **type**, ya que el lenguaje de por si nos ayuda a verificar si es correcta la informacion ingresada"
   ]
  },
  {
   "cell_type": "markdown",
   "metadata": {},
   "source": [
    "<img src=\"./Resources/form1.png\">"
   ]
  },
  {
   "cell_type": "markdown",
   "metadata": {},
   "source": [
    "### 1.1.6 Tablas en HTML"
   ]
  },
  {
   "cell_type": "markdown",
   "metadata": {},
   "source": [
    "Utilizamos las etiqueta : "
   ]
  },
  {
   "cell_type": "markdown",
   "metadata": {},
   "source": [
    "<img src=\"./Resources/table.png\">"
   ]
  },
  {
   "cell_type": "markdown",
   "metadata": {},
   "source": [
    "1. La etiqueta **tr** nos indica que los que vaya en su interior, sera una fila"
   ]
  },
  {
   "cell_type": "markdown",
   "metadata": {},
   "source": [
    "2. La etiqueta **th** nos indica que sera un encabezado de una columna (resaltado en negrilla)"
   ]
  },
  {
   "cell_type": "markdown",
   "metadata": {},
   "source": [
    "3. La etiqueta **td** nos indica que sera parte de una columna"
   ]
  },
  {
   "cell_type": "markdown",
   "metadata": {},
   "source": [
    "<img src=\"./Resources/table1.png\">"
   ]
  },
  {
   "cell_type": "markdown",
   "metadata": {},
   "source": [
    "---"
   ]
  },
  {
   "cell_type": "markdown",
   "metadata": {},
   "source": [
    "### 1.1.7  Insertar video desde youtube"
   ]
  },
  {
   "cell_type": "markdown",
   "metadata": {},
   "source": [
    "<img src=\"./Resources/youtube.png\">"
   ]
  },
  {
   "cell_type": "markdown",
   "metadata": {},
   "source": [
    "<img src=\"./Resources/youtube1.png\">"
   ]
  },
  {
   "cell_type": "markdown",
   "metadata": {},
   "source": [
    "---"
   ]
  },
  {
   "cell_type": "markdown",
   "metadata": {},
   "source": [
    "### 1.1.8 Hipervinculos en HTML"
   ]
  },
  {
   "cell_type": "markdown",
   "metadata": {},
   "source": [
    "<img src=\"./Resources/hipervinculo.png\">"
   ]
  },
  {
   "cell_type": "markdown",
   "metadata": {},
   "source": [
    "---"
   ]
  },
  {
   "cell_type": "markdown",
   "metadata": {},
   "source": [
    "# 2. Introduccion a CSS"
   ]
  },
  {
   "cell_type": "markdown",
   "metadata": {},
   "source": [
    "<img src=\"./Resources/css1.png\">"
   ]
  },
  {
   "cell_type": "markdown",
   "metadata": {},
   "source": [
    "Junto con HTML y JavaScript, CSS es una tecnología usada por muchos sitios web para crear páginas visualmente atractivas, interfaces de usuario para aplicaciones web y GUIs para muchas aplicaciones móviles (como Firefox OS)"
   ]
  },
  {
   "cell_type": "markdown",
   "metadata": {},
   "source": [
    "## 2.1 Ejemplo Plantilla para aplicar CSS"
   ]
  },
  {
   "cell_type": "code",
   "execution_count": null,
   "metadata": {},
   "outputs": [],
   "source": [
    "<!DOCTYPE html>\n",
    "<html>\n",
    "<head>\n",
    "\t<title>::UNIVERSIDAD ICESI:: </title>\n",
    "</head>\n",
    "<body>\n",
    "\n",
    "\t<h1>Universidad ICESI</h1>\n",
    "\n",
    "\n",
    "\n",
    "\t<div>La Universidad Icesi forma profesionales en 28 programas de pregrado, 1 doctorado, 24 maestrías, 21 especializaciones médico-quirúrgicas y 15 especializaciones, todos ellos aprobados por el Ministerio de Educación Nacional. Además, gracias al estrecho vínculo con las empresas, se diseñan diplomados y programas a la medida de cada organización que satisfacen sus necesidades de actualización, ofreciéndole también asesoría y consultoría.</div>\n",
    "\n",
    "\t<div>\n",
    "\t\t\t\n",
    "\t\t<p>\n",
    "\n",
    "\t\t\tLorem ipsum dolor sit amet, consectetur adipisicing elit, sed do eiusmod\n",
    "\t\t\ttempor incididunt ut labore et dolore magna aliqua. Ut enim ad minim veniam,\n",
    "\t\t\tquis nostrud exercitation ullamco laboris nisi ut aliquip ex ea commodo\n",
    "\t\t\tconsequat. Duis aute irure dolor in reprehenderit in voluptate velit esse\n",
    "\t\t\tcillum dolore eu fugiat nulla pariatur. Excepteur sint occaecat cupidatat non\n",
    "\t\t\tproident, sunt in culpa qui officia deserunt mollit anim id est laborum.\n",
    "\n",
    "\n",
    "\t\t\t<a href=\"https://www.icesi.edu.co\">Pagina oficial de la universidad</a></p>\t\n",
    "\n",
    "\t\t<p>\n",
    "\t\t\tLorem ipsum dolor sit amet, consectetur adipisicing elit, sed do eiusmod\n",
    "\t\t\ttempor incididunt ut labore et dolore magna aliqua. Ut enim ad minim veniam,\n",
    "\t\t\tquis nostrud exercitation ullamco laboris nisi ut aliquip ex ea commodo\n",
    "\t\t\tconsequat. Duis aute irure dolor in reprehenderit in voluptate velit esse\n",
    "\t\t\tcillum dolore eu fugiat nulla pariatur. Excepteur sint occaecat cupidatat non\n",
    "\t\t\tproident, sunt in culpa qui officia deserunt mollit anim id est laborum.\n",
    "\n",
    "\t\t\t<a href=\"https://www.youtube.com\" class=\"youtube\">Youtube</a></p>\t\n",
    "\n",
    "\t</div>\n",
    "\n",
    "\t<div>\n",
    "\n",
    "\t\t<h1>MODELO DE CAJA</h1>\n",
    "\t\t\t\n",
    "\t\t<img src=\"div.png\">\n",
    "\n",
    "\t\t<p>todos los elementos del sitio web son rectangulares</p>\n",
    "\n",
    "\t\t<p class=\"example\"><b>ejemplo</b></p>\n",
    "\t\t<p>EL ANTERIOR ES UN TIPO BLOQUE</p>\n",
    "\n",
    "\t\t<a class=\"example\" href=\"\">ejemplo</a>\n",
    "\t\t<p>EL ANTERIOR ES UN TIPO LINEA, solo se le puede dar margin and padding</p>\n",
    "\n",
    "\t\t<h2>MODIFICANDO MODELOS DE CAJA</h2>\n",
    "\n",
    "\n",
    "\t\t<div class=\"example_modelo0\">\n",
    "\t\t\t<h6>CAJA 1</h6>\n",
    "\t\t\t<p>Lorem ipsum dolor sit amet, consectetur adipisicing elit, sed do eiusmod\n",
    "\t\t\ttempor incididunt ut labore et dolore magna aliqua. Ut enim ad minim veniam,\n",
    "\t\t\tquis nostrud exercitation ullamco laboris nisi ut aliquip ex ea commodo\n",
    "\t\t\tconsequat. Duis aute irure dolor in reprehenderit in voluptate velit esse\n",
    "\t\t\tcillum dolore eu fugiat nulla pariatur. Excepteur sint occaecat cupidatat non\n",
    "\t\t\tproident, sunt in culpa qui officia deserunt mollit anim id est laborum.</p>\n",
    "\n",
    "\t\t</div>\n",
    "\n",
    "\t\t<div class=\"example_modelo1\">\n",
    "\t\t\t<h6>CAJA 2</h6>\n",
    "\t\t\t<p>Lorem ipsum dolor sit amet, consectetur adipisicing elit, sed do eiusmod\n",
    "\t\t\ttempor incididunt ut labore et dolore magna aliqua. Ut enim ad minim veniam,\n",
    "\t\t\tquis nostrud exercitation ullamco laboris nisi ut aliquip ex ea commodo\n",
    "\t\t\tconsequat. Duis aute irure dolor in reprehenderit in voluptate velit esse\n",
    "\t\t\tcillum dolore eu fugiat nulla pariatur. Excepteur sint occaecat cupidatat non\n",
    "\t\t\tproident, sunt in culpa qui officia deserunt mollit anim id est laborum.</p>\n",
    "\n",
    "\t\t</div>\n",
    "\n",
    "\t\t<div class=\"example_modelo2\">\n",
    "\t\t\t<h6>CAJA 3</h6>\n",
    "\t\t\t<p>Lorem ipsum dolor sit amet, consectetur adipisicing elit, sed do eiusmod\n",
    "\t\t\ttempor incididunt ut labore et dolore magna aliqua. Ut enim ad minim veniam,\n",
    "\t\t\tquis nostrud exercitation ullamco laboris nisi ut aliquip ex ea commodo\n",
    "\t\t\tconsequat. Duis aute irure dolor in reprehenderit in voluptate velit esse\n",
    "\t\t\tcillum dolore eu fugiat nulla pariatur. Excepteur sint occaecat cupidatat non\n",
    "\t\t\tproident, sunt in culpa qui officia deserunt mollit anim id est laborum.</p>\n",
    "\n",
    "\t\t</div>\n",
    "\n",
    "\t\t<div class=\"example_modelo3\">\n",
    "\t\t\t<h6>CAJA 4</h6>\n",
    "\t\t\t<p>Lorem ipsum dolor sit amet, consectetur adipisicing elit, sed do eiusmod\n",
    "\t\t\ttempor incididunt ut labore et dolore magna aliqua. Ut enim ad minim veniam,\n",
    "\t\t\tquis nostrud exercitation ullamco laboris nisi ut aliquip ex ea commodo\n",
    "\t\t\tconsequat. Duis aute irure dolor in reprehenderit in voluptate velit esse\n",
    "\t\t\tcillum dolore eu fugiat nulla pariatur. Excepteur sint occaecat cupidatat non\n",
    "\t\t\tproident, sunt in culpa qui officia deserunt mollit anim id est laborum.</p>\n",
    "\n",
    "\t\t</div>\n",
    "\n",
    "\t\t<div class=\"example_modelo4\">\n",
    "\t\t\t<h6>CAJA 4</h6>\n",
    "\t\t\t<p>Lorem ipsum dolor sit amet, consectetur adipisicing elit, sed do eiusmod\n",
    "\t\t\ttempor incididunt ut labore et dolore magna aliqua. Ut enim ad minim veniam,\n",
    "\t\t\tquis nostrud exercitation ullamco laboris nisi ut aliquip ex ea commodo\n",
    "\t\t\tconsequat. Duis aute irure dolor in reprehenderit in voluptate velit esse\n",
    "\t\t\tcillum dolore eu fugiat nulla pariatur. Excepteur sint occaecat cupidatat non\n",
    "\t\t\tproident, sunt in culpa qui officia deserunt mollit anim id est laborum.</p>\n",
    "\n",
    "\t\t</div>\n",
    "\n",
    "\t\t<div class=\"example_modelo5\">\n",
    "\t\t\t<h6>CAJA 4</h6>\n",
    "\t\t\t<p>Lorem ipsum dolor sit amet, consectetur adipisicing elit, sed do eiusmod\n",
    "\t\t\ttempor incididunt ut labore et dolore magna aliqua. Ut enim ad minim veniam,\n",
    "\t\t\tquis nostrud exercitation ullamco laboris nisi ut aliquip ex ea commodo\n",
    "\t\t\tconsequat. Duis aute irure dolor in reprehenderit in voluptate velit esse\n",
    "\t\t\tcillum dolore eu fugiat nulla pariatur. Excepteur sint occaecat cupidatat non\n",
    "\t\t\tproident, sunt in culpa qui officia deserunt mollit anim id est laborum.</p>\n",
    "\n",
    "\t\t</div>\n",
    "\n",
    "\n",
    "\t\t<h1>FONDOS</h1>\n",
    "\n",
    "\t\t<div class=\"fondo1\">\n",
    "\t\t\t\t\n",
    "\t\t\t<p>Lorem ipsum dolor sit amet, consectetur adipisicing elit, sed do eiusmod\n",
    "\t\t\ttempor incididunt ut labore et dolore magna aliqua. Ut enim ad minim veniam,\n",
    "\t\t\tquis nostrud exercitation ullamco laboris nisi ut aliquip ex ea commodo\n",
    "\t\t\tconsequat. Duis aute irure dolor in reprehenderit in voluptate velit esse\n",
    "\t\t\tcillum dolore eu fugiat nulla pariatur. Excepteur sint occaecat cupidatat non\n",
    "\t\t\tproident, sunt in culpa qui officia deserunt mollit anim id est laborum.</p>\n",
    "\n",
    "\n",
    "\t\t</div>\n",
    "\n",
    "\t\t<h1>IMAGENES</h1>\n",
    "\n",
    "\t\t<div class=\"div_image1\" >\n",
    "\t\t\t\t\n",
    "\t\t\t<img class=\"image1\" src=\"icesi.jpg\">\n",
    "\n",
    "\n",
    "\t\t</div>\n",
    "\n",
    "\n",
    "\t</div>\n",
    "\n",
    "\t<div class=\"div_form\">\n",
    "\t\t\n",
    "\t\t<h1>FORMULARIOS</h1>\n",
    "\n",
    "\t\t<form>\n",
    "\t\t\t\n",
    "\t\t\t<label for =\"Nombre\">Nombre</label>\n",
    "\t\t\t<input type=\"text\" id=\"nombre\" placeholder=\"Escribe tu nombre\">\n",
    "\n",
    "\t\t\t<label for =\"email\">Email</label>\n",
    "\t\t\t<input type=\"email\" id=\"email\" placeholder=\"Escribe tu email\">\n",
    "\n",
    "\t\t\t<input type=\"submit\" value=\"send\">\n",
    "\n",
    "\t\t</form>\n",
    "\n",
    "\t</div>\n",
    "\n",
    "\t<div class=\"div_table\">\n",
    "\t\t\n",
    "\t\t<h1>TABLAS</h1>\n",
    "\n",
    "\t\t<table>\n",
    "\t\t\t\t\n",
    "\t\t\t<tr>\n",
    "\t\t\t\t<td>Columna 1</td>\n",
    "\t\t\t\t<td>Columna 2</td>\n",
    "\t\t\t\t<td>Columna 3</td>\n",
    "\n",
    "\t\t\t</tr>\n",
    "\t\t\t<tr>\n",
    "\t\t\t\t<td>Columna 1</td>\n",
    "\t\t\t\t<td>Columna 2</td>\n",
    "\t\t\t\t<td>Columna 3</td>\n",
    "\n",
    "\t\t\t</tr>\n",
    "\n",
    "\n",
    "\n",
    "\t\t</table>\n",
    "\n",
    "\t</div>\n",
    "\n",
    "</body>\n",
    "<footer>\n",
    "\t<p>\n",
    "\t\t<b>Santiago de Cali / 2019 :: 2019-05-05</b>\n",
    "\t</p>\n",
    "\t<div>\n",
    "\t<a href=\"https://www.google.com\">Link a google</a>\n",
    "\t</div>\n",
    "</footer>\n",
    "</html>"
   ]
  },
  {
   "cell_type": "markdown",
   "metadata": {},
   "source": [
    "<img src=\"./Resources/html2.png\">"
   ]
  },
  {
   "cell_type": "markdown",
   "metadata": {},
   "source": [
    "---"
   ]
  },
  {
   "cell_type": "markdown",
   "metadata": {},
   "source": [
    "## 2.2 Aplicando CSS a la plantilla anterior"
   ]
  },
  {
   "cell_type": "markdown",
   "metadata": {},
   "source": [
    "<img src=\"./Resources/css2.png\">"
   ]
  },
  {
   "cell_type": "markdown",
   "metadata": {},
   "source": [
    "---"
   ]
  },
  {
   "cell_type": "markdown",
   "metadata": {},
   "source": [
    "### 2.2.1 Explicacion del modelo de caja"
   ]
  },
  {
   "cell_type": "markdown",
   "metadata": {},
   "source": [
    "<img src=\"./Resources/caja.png\">"
   ]
  },
  {
   "cell_type": "markdown",
   "metadata": {},
   "source": [
    "Todos los elementos que hacen parte del lenguaje HTML tienen una figura rectangular. Estos pueden ser modificados dependiendo las necesidades"
   ]
  },
  {
   "cell_type": "markdown",
   "metadata": {},
   "source": [
    "<img src=\"./Resources/fuente.png\">"
   ]
  },
  {
   "cell_type": "markdown",
   "metadata": {},
   "source": [
    "#### 2.2.1.1 Explicacion en BLOQUE y en LINEA"
   ]
  },
  {
   "cell_type": "markdown",
   "metadata": {},
   "source": [
    "<img src=\"./Resources/bloqueylinea.png\">"
   ]
  },
  {
   "cell_type": "markdown",
   "metadata": {},
   "source": [
    "La anterior fotografia hace referencia al siguiente codigo html:"
   ]
  },
  {
   "cell_type": "markdown",
   "metadata": {},
   "source": [
    "<img src=\"./Resources/codigolin.png\">"
   ]
  },
  {
   "cell_type": "markdown",
   "metadata": {},
   "source": [
    "1. Una etiqueta de **línea** es aquella que ocupa el espacio mínimo necesario en horizontal, y permite que otro elemento se coloque a su lado. \n",
    "\n"
   ]
  },
  {
   "cell_type": "markdown",
   "metadata": {},
   "source": [
    "2. En cambio una etiqueta de **bloque**, ocupa todo el ancho disponible y no permite que otro elemento se coloque a su lado (aunque aparentemente tenga lugar suficiente)."
   ]
  },
  {
   "cell_type": "markdown",
   "metadata": {},
   "source": [
    "---"
   ]
  },
  {
   "cell_type": "markdown",
   "metadata": {},
   "source": [
    "## 2.2.2 Selectores en CSS"
   ]
  },
  {
   "cell_type": "markdown",
   "metadata": {},
   "source": [
    "Los **selectores** definen sobre qué elementos se aplicará un conjunto de reglas CSS."
   ]
  },
  {
   "cell_type": "markdown",
   "metadata": {},
   "source": [
    "### 2.2.2.1 Tipos de selectores"
   ]
  },
  {
   "cell_type": "markdown",
   "metadata": {},
   "source": [
    "#### 2.2.2.1.1 Universal"
   ]
  },
  {
   "cell_type": "markdown",
   "metadata": {},
   "source": [
    "<img src=\"./Resources/universal.png\">"
   ]
  },
  {
   "cell_type": "markdown",
   "metadata": {},
   "source": [
    "Modifica todos los elementos contenidos en la pagina html"
   ]
  },
  {
   "cell_type": "markdown",
   "metadata": {},
   "source": [
    "---"
   ]
  },
  {
   "cell_type": "markdown",
   "metadata": {},
   "source": [
    "#### 2.2.2.1.2 Etiqueta"
   ]
  },
  {
   "cell_type": "markdown",
   "metadata": {},
   "source": [
    "<img src=\"./Resources/etiqueta.png\">"
   ]
  },
  {
   "cell_type": "markdown",
   "metadata": {},
   "source": [
    "modifica los elementos cuya etiqueta sea la colocada en el selector"
   ]
  },
  {
   "cell_type": "markdown",
   "metadata": {},
   "source": [
    "---"
   ]
  },
  {
   "cell_type": "markdown",
   "metadata": {},
   "source": [
    "#### 2.2.2.1.3 Descendentes"
   ]
  },
  {
   "cell_type": "markdown",
   "metadata": {},
   "source": [
    "<img src=\"./Resources/descendente1.png\">"
   ]
  },
  {
   "cell_type": "markdown",
   "metadata": {},
   "source": [
    "Busca los elementos de y tipo que se encuentran dentro elementos de x tipo"
   ]
  },
  {
   "cell_type": "markdown",
   "metadata": {},
   "source": [
    "----"
   ]
  },
  {
   "cell_type": "markdown",
   "metadata": {},
   "source": [
    "#### 2.2.2.1.4 ID"
   ]
  },
  {
   "cell_type": "markdown",
   "metadata": {},
   "source": [
    "<img src=\"./Resources/clase.png\">"
   ]
  },
  {
   "cell_type": "markdown",
   "metadata": {},
   "source": [
    "Modifica los elementos cuyo ID sea exactamente el mismo del selector. Se usa el simbolo \"**#**\""
   ]
  },
  {
   "cell_type": "markdown",
   "metadata": {},
   "source": [
    "---"
   ]
  },
  {
   "cell_type": "markdown",
   "metadata": {},
   "source": [
    "#### 2.2.2.1.5 Clase"
   ]
  },
  {
   "cell_type": "markdown",
   "metadata": {},
   "source": [
    "<img src=\"./Resources/id.png\">"
   ]
  },
  {
   "cell_type": "markdown",
   "metadata": {},
   "source": [
    "Modifica los elementos cuya clase sea la misma del selector. Se usa el simbolo \"**.**\""
   ]
  },
  {
   "cell_type": "markdown",
   "metadata": {},
   "source": [
    "---"
   ]
  },
  {
   "cell_type": "markdown",
   "metadata": {},
   "source": [
    "#### 2.2.2.1.6 Propiedad especifica"
   ]
  },
  {
   "cell_type": "markdown",
   "metadata": {},
   "source": [
    "<img src=\"./Resources/propiedad.png\">"
   ]
  },
  {
   "cell_type": "markdown",
   "metadata": {},
   "source": [
    "Modifica los elementos de tipo x que tengan un atributo en especifico"
   ]
  },
  {
   "cell_type": "markdown",
   "metadata": {},
   "source": [
    "---"
   ]
  },
  {
   "cell_type": "markdown",
   "metadata": {},
   "source": [
    "## 2.2.3 Plantilla de ejemplo"
   ]
  },
  {
   "cell_type": "code",
   "execution_count": null,
   "metadata": {},
   "outputs": [],
   "source": [
    "/* SELECTOR : Son parte de las reglas CSS que nos indican a quien le haremos cambio sobre el template*/\n",
    "\n",
    "\n",
    "/*SELECTOR UNIVERSAL : Modifica todos el template / no es muy usado*/\n",
    "*{\n",
    "\n",
    "}\n",
    "\n",
    "/*SELECTOR DE ETIQUETA : Modifica todos los elementos que contengan esta etiqueta*/\n",
    "h1{\n",
    "\tcolor : blue ;\n",
    "\t/*Modifica el tamaño de la fuente*/\n",
    "\tfont-size: 40px;\n",
    "}\n",
    "\n",
    "h2,h3{\n",
    "\tcolor:green;\n",
    "}\n",
    "\n",
    "h6{\n",
    "\tcolor:red;\n",
    "}\n",
    "\n",
    "/*SELECTOR DESCENDENTES : Apuntan hacia elementos dentro de otros elementos*/\n",
    "\n",
    "/*apunta hacia los a que estan dentro de los elementos p*/\n",
    "p a {\n",
    "\tcolor:orange;\n",
    "}\n",
    "\n",
    "/*SELECTOR DE CLASE*/\n",
    "\n",
    ".youtube {\n",
    "\tcolor:green;\n",
    "}\n",
    "\n",
    "/*SELECTOR DE ID : Deben ser unicos ( no es muy bueno utilizarlos, mejor usa las clases)*/\n",
    "\n",
    "#name{\n",
    "\n",
    "}\n",
    "\n",
    "/*SELECTOR DE PROPIEDAD ESPECIFICA*/\n",
    "a[href=\"link\"]{\n",
    "\n",
    "}\n",
    "\n",
    "\n",
    ".example{\n",
    "\tbackground-color: yellow;\n",
    "\ttext-align: center;\n",
    "}\n",
    "\n",
    ".example_modelo0{\n",
    "\twidth: 500px;\n",
    "\t/*50%*/\n",
    "\tbackground-color: yellow;\n",
    "\n",
    "}\n",
    "\n",
    ".example_modelo1{\n",
    "\theight: 300px;\n",
    "\tbackground-color: blue;\n",
    "\tmargin: 20px;\n",
    "/*\t(2 valores ==> (x,y) \n",
    "\t, x modifica hacia arriba y abajo\n",
    "\t  y modifa los lados)*/\n",
    "\tpadding: 30px;\n",
    "}\n",
    "\n",
    ".example_modelo2{\n",
    "\tbackground-color: purple;\n",
    "\tmargin: 20px;\n",
    "/*\t(2 valores ==> (x,y) \n",
    "\t, x modifica hacia arriba y abajo\n",
    "\t  y modifa los lados)*/\n",
    "}\n",
    "\n",
    ".example_modelo3{\n",
    "\tbackground-color: green;\n",
    "\tpadding: 30px;\n",
    "}\n",
    "\n",
    ".example_modelo4{\n",
    "\tborder: 10px solid;\n",
    "\tmargin: 20px;\n",
    "\n",
    "}\n",
    "\n",
    ".example_modelo5{\n",
    "\tborder: 10px dotted;\n",
    "\tmargin: 20px;\n",
    "\n",
    "}\n",
    ".div_image1{\n",
    "\twidth: 100%;\n",
    "\tbackground: #ccc;\n",
    "}\n",
    "\n",
    ".fondo1{\n",
    "\t/*(../) devuelve una carpeta*/\n",
    "\tbackground :url(metal.jpg);\n",
    "}\n",
    "\n",
    "\n",
    ".image1{\n",
    "\twidth: 300px;\n",
    "\theight: auto;\n",
    "\t/*para centrar la imagen o contenedores margin:auto*/\n",
    "\tmargin: auto;\n",
    "\tdisplay: block;\n",
    "\n",
    "}\n",
    "\n",
    "\n",
    "\n",
    "form{\n",
    "\n",
    "\twidth: 25%;\n",
    "\tborder : 1px solid #ccc;\n",
    "\tmargin: 20px;\n",
    "\tpadding: 20px;\n",
    "\n",
    "\n",
    "}\n",
    "\n",
    "label{\n",
    "\tfont-size: 12px;\n",
    "\tdisplay: block;\n",
    "\twidth: 100px;\n",
    "}\n",
    "\n",
    "input{\n",
    "\tmargin-bottom: 20px;\n",
    "\twidth: 100%;\n",
    "}\n",
    "\n",
    "/*para que el usuario sepa donde esta escribiendo*/\n",
    "input:focus{\n",
    "\tborder: 1px solid #1668c4;\n",
    "}\n",
    "\n",
    "\n",
    "\n",
    "table{\n",
    "\tborder: 1px solid #000;\n",
    "\t/*para quitarle los separadores a las celdas*/\n",
    "\tborder-collapse: collapse;\n",
    "}\n",
    "\n",
    "table td{\n",
    "\tborder: 1px solid #000;\n",
    "\tpadding: 20px;\n",
    "}\n",
    "\n",
    "table tr:hover{\n",
    "\tbackground: #ccc;\n",
    "}\n",
    "\n",
    "table td:hover{\n",
    "\tbackground: #000;\n",
    "\tcolor:white;\n",
    "}\n",
    "\n",
    "\n",
    "body{\n",
    "\n",
    "\tbackground: #fff;\n",
    "\n",
    "}\n",
    " "
   ]
  },
  {
   "cell_type": "markdown",
   "metadata": {},
   "source": [
    "Link :\n"
   ]
  },
  {
   "cell_type": "markdown",
   "metadata": {},
   "source": []
  },
  {
   "cell_type": "markdown",
   "metadata": {},
   "source": [
    "---"
   ]
  },
  {
   "cell_type": "markdown",
   "metadata": {},
   "source": [
    "## 3. Enlazar CSS al HTML"
   ]
  },
  {
   "cell_type": "markdown",
   "metadata": {},
   "source": [
    "    Para enlazar, utilizamos la etiqueta:"
   ]
  },
  {
   "cell_type": "markdown",
   "metadata": {},
   "source": [
    "<img src=\"./Resources/link.png\">"
   ]
  },
  {
   "cell_type": "markdown",
   "metadata": {},
   "source": [
    "Donde en el **href** debemos colocar la ruta donde se encuentra el archivo .css"
   ]
  },
  {
   "cell_type": "markdown",
   "metadata": {},
   "source": [
    "---"
   ]
  },
  {
   "cell_type": "markdown",
   "metadata": {},
   "source": [
    "## 4. Reto 21 : HTML + CSS"
   ]
  },
  {
   "cell_type": "markdown",
   "metadata": {},
   "source": [
    "Link : https://github.com/JulioCe98/Networks_Monitory/blob/master/Retos/Libro%20de%20Retos.ipynb"
   ]
  }
 ],
 "metadata": {
  "kernelspec": {
   "display_name": "Python 3",
   "language": "python",
   "name": "python3"
  },
  "language_info": {
   "codemirror_mode": {
    "name": "ipython",
    "version": 3
   },
   "file_extension": ".py",
   "mimetype": "text/x-python",
   "name": "python",
   "nbconvert_exporter": "python",
   "pygments_lexer": "ipython3",
   "version": "3.7.3"
  }
 },
 "nbformat": 4,
 "nbformat_minor": 2
}
