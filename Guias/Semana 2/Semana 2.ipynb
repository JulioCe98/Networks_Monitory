{
 "cells": [
  {
   "cell_type": "markdown",
   "metadata": {},
   "source": [
    "# Semana 2 : Identificacion de elementos en una captura de wireshark + saber la direccion ip por medio de la consola + cliente servidor usando encriptacion cesar + reto"
   ]
  },
  {
   "cell_type": "markdown",
   "metadata": {},
   "source": [
    "---"
   ]
  },
  {
   "cell_type": "markdown",
   "metadata": {},
   "source": [
    "## 1. Capas del Modelo OSI"
   ]
  },
  {
   "cell_type": "markdown",
   "metadata": {},
   "source": [
    "1. Aplicacion\n",
    "2. Presentacion\n",
    "3. Sesion\n",
    "4. Transporte\n",
    "5. Red\n",
    "6. Enlace\n",
    "7. Fisico"
   ]
  },
  {
   "cell_type": "markdown",
   "metadata": {},
   "source": [
    "---"
   ]
  },
  {
   "cell_type": "markdown",
   "metadata": {},
   "source": [
    "## 2. Wireshark"
   ]
  },
  {
   "cell_type": "markdown",
   "metadata": {},
   "source": [
    "<img src=\"./Resources/wireshark.png\">\n"
   ]
  },
  {
   "cell_type": "markdown",
   "metadata": {},
   "source": [
    "---"
   ]
  },
  {
   "cell_type": "markdown",
   "metadata": {},
   "source": [
    "### 2.1 Analizando Capturas con Wireshark"
   ]
  },
  {
   "cell_type": "markdown",
   "metadata": {},
   "source": [
    "link :  https://github.com/JulioCe98/Networks_Monitory/tree/master/Guias/Semana%202/Capturas"
   ]
  },
  {
   "cell_type": "markdown",
   "metadata": {},
   "source": [
    "### Captura propuesta numero #1 "
   ]
  },
  {
   "cell_type": "markdown",
   "metadata": {},
   "source": [
    "<img src=\"./Resources/or-condition.png\">"
   ]
  },
  {
   "cell_type": "markdown",
   "metadata": {},
   "source": [
    "Identificar En la captura el tipo de protocolo de transmision, junto con el puerto de destino o de origen."
   ]
  },
  {
   "cell_type": "markdown",
   "metadata": {},
   "source": [
    "### Captura propuesta numero #2 "
   ]
  },
  {
   "cell_type": "markdown",
   "metadata": {},
   "source": [
    "<img src=\"./Resources/Captura.PNG\">"
   ]
  },
  {
   "cell_type": "markdown",
   "metadata": {},
   "source": [
    "De este protolo DNS, identificar el uso de beacons.gvt2.com"
   ]
  },
  {
   "cell_type": "markdown",
   "metadata": {},
   "source": [
    "### Captura propuesta numero #3"
   ]
  },
  {
   "cell_type": "markdown",
   "metadata": {},
   "source": [
    "<img src=\"./Resources/Captura2.PNG\">"
   ]
  },
  {
   "cell_type": "markdown",
   "metadata": {},
   "source": [
    "De la captura DNS del grupode bamcolombia donde se identifica el protocolo de seguridad ?"
   ]
  },
  {
   "cell_type": "markdown",
   "metadata": {},
   "source": [
    "---"
   ]
  },
  {
   "cell_type": "markdown",
   "metadata": {},
   "source": [
    "# 3 Consola"
   ]
  },
  {
   "cell_type": "markdown",
   "metadata": {},
   "source": [
    "## 3.1 Como saber mi ip por consola?"
   ]
  },
  {
   "cell_type": "markdown",
   "metadata": {},
   "source": [
    "### 3.1.1 Windows"
   ]
  },
  {
   "cell_type": "markdown",
   "metadata": {},
   "source": [
    "Usamos el comando **ipconfig** "
   ]
  },
  {
   "cell_type": "markdown",
   "metadata": {},
   "source": [
    "<img src=\"./Resources/ipw.png\">\n"
   ]
  },
  {
   "cell_type": "markdown",
   "metadata": {},
   "source": [
    "### 3.1.2 Mac"
   ]
  },
  {
   "cell_type": "markdown",
   "metadata": {},
   "source": [
    "<img src=\"./Resources/red.png\">\n"
   ]
  },
  {
   "cell_type": "markdown",
   "metadata": {},
   "source": [
    "<img src=\"./Resources/ip.png\">\n"
   ]
  },
  {
   "cell_type": "markdown",
   "metadata": {},
   "source": [
    "### 3.1.3 Linux"
   ]
  },
  {
   "cell_type": "markdown",
   "metadata": {},
   "source": [
    "Usamos el comando **ifconfig**"
   ]
  },
  {
   "cell_type": "markdown",
   "metadata": {},
   "source": [
    "<img src=\"./Resources/ipl.webp\">\n"
   ]
  },
  {
   "cell_type": "markdown",
   "metadata": {},
   "source": [
    "----"
   ]
  },
  {
   "cell_type": "markdown",
   "metadata": {},
   "source": [
    "# 4 Cliente/Servidor con encriptacion Cesar"
   ]
  },
  {
   "cell_type": "markdown",
   "metadata": {},
   "source": [
    "## 4.1 Explicacion"
   ]
  },
  {
   "cell_type": "markdown",
   "metadata": {},
   "source": [
    "El cifrado César recibe su nombre en honor a Julio César, que según Suetonio, lo usó con un desplazamiento de tres espacios para proteger sus mensajes importantes de contenido militar:"
   ]
  },
  {
   "cell_type": "markdown",
   "metadata": {},
   "source": [
    "<img src=\"./Resources/cesar.jpeg\">\n"
   ]
  },
  {
   "cell_type": "markdown",
   "metadata": {},
   "source": [
    "## 4.2 Ejemplo"
   ]
  },
  {
   "cell_type": "markdown",
   "metadata": {},
   "source": [
    "Tenemos la palabra \"**HOLA**\", donde vamos a mirar sus valores en **ASCII**"
   ]
  },
  {
   "cell_type": "markdown",
   "metadata": {},
   "source": [
    "<img src=\"./Resources/ascii.png\">\n"
   ]
  },
  {
   "cell_type": "markdown",
   "metadata": {},
   "source": [
    "* H : 72\n",
    "* O : 79\n",
    "* L : 76\n",
    "* A : 65"
   ]
  },
  {
   "cell_type": "markdown",
   "metadata": {},
   "source": [
    "Encriptaremos usando un desplazamiento de 3 posiciones "
   ]
  },
  {
   "cell_type": "markdown",
   "metadata": {},
   "source": [
    "* H : 75\n",
    "* O : 82\n",
    "* L : 79\n",
    "* A : 68"
   ]
  },
  {
   "cell_type": "markdown",
   "metadata": {},
   "source": [
    "**Resultado : KROD**"
   ]
  },
  {
   "cell_type": "markdown",
   "metadata": {},
   "source": [
    "# 4.3 Ejemplo en JAVA"
   ]
  },
  {
   "cell_type": "markdown",
   "metadata": {},
   "source": [
    "## 4.3.1 Server"
   ]
  },
  {
   "cell_type": "code",
   "execution_count": null,
   "metadata": {},
   "outputs": [],
   "source": [
    "package schema;\n",
    "\n",
    "import java.io.DataInputStream;\n",
    "import java.io.DataOutputStream;\n",
    "import java.io.IOException;\n",
    "import java.net.ServerSocket;\n",
    "import java.net.Socket;\n",
    "\n",
    "public class Server {\n",
    "\t\n",
    "\t\n",
    "\t/**\n",
    "\t * Puerto por donde el servidor atendera a los clientes\n",
    "\t */\n",
    "\tpublic static final int PORT = 8000;\n",
    "\t/**\n",
    "\t * El servidor dispone de un serversocket, para permitir la conexion a los clientes\n",
    "\t */\n",
    "\tprivate static  ServerSocket serverSocket;\n",
    "\t/**\n",
    "\t * El servidor dispone de un socket para atender a cada cliente por individual\n",
    "\t */\n",
    "\tprivate static Socket socket;\n",
    "\t\n",
    "\n",
    "\t\n",
    "\t\n",
    "\tpublic static void main(String[] args) {\n",
    "\t\t\n",
    "\t\tDataInputStream in;\n",
    "\t\tDataOutputStream out;\n",
    "\t\t\n",
    "\t\ttry {\n",
    "\t\t\tserverSocket = new ServerSocket(PORT);\n",
    "\t\t\tSystem.out.println(\"::Servidor escuchando a los posibles clientes::\");\n",
    "\t\t\t\n",
    "\t\t\twhile(true) {\n",
    "\t\t\t\t\n",
    "\t\t\t\tsocket = serverSocket.accept();\n",
    "\t\t\t\tSystem.out.println(\"El cliente se ha conectado!\");\n",
    "\t\t\t\tin = new DataInputStream(socket.getInputStream());\n",
    "\t\t\t\tout = new DataOutputStream(socket.getOutputStream());\n",
    "\t\t\t\tString mensajeObtenidoCliente = in.readUTF();\n",
    "\t\t\t\tSystem.out.println(\"El mensaje enviado por el cliente fue : \" + mensajeObtenidoCliente);\n",
    "\t\t\t\tString respuestaServer = metodoServicioServer(mensajeObtenidoCliente);\n",
    "\t\t\t\tout.writeUTF(respuestaServer);\n",
    "\t\t\t\tsocket.close();\n",
    "\t\t\t\tSystem.out.println(\"::El cliente fue desconectado del server::\");\n",
    "\t\t\t\n",
    "\t\t\t}\n",
    "\t\t\t\n",
    "\t\t\t\n",
    "\t\t\t\n",
    "\t\t\t\n",
    "\t\t\t\n",
    "\t\t\t\n",
    "\t\t\t\n",
    "\t\t} catch (IOException e) {\n",
    "\t\t\t// TODO Auto-generated catch block\n",
    "\t\t\te.printStackTrace();\n",
    "\t\t}\n",
    "\t\t\n",
    "\t\t\n",
    "\t\t\n",
    "\t\t\n",
    "\t}\n",
    "\n",
    "\n",
    "\n",
    "\t/**\n",
    "\t * Metodo encargado de realizar la encriptacion de Cesar, sumando 2 posiciones al ASCII\n",
    "\t * de cada caracter\n",
    "\t * @param mensajeObtenidoCliente != Null && != \"\"\n",
    "\t * @return\n",
    "\t */\n",
    "\tprivate static String metodoServicioServer(String mensajeObtenidoCliente) {\n",
    "\t\t\n",
    "\t\tString respuesta = \"\";\n",
    "\t\tchar caracter ;\n",
    "\t\t\n",
    "\t\tif(mensajeObtenidoCliente != \"\") {\n",
    "\t\t\tfor (int i = 0; i < mensajeObtenidoCliente.length(); i++) {\n",
    "\t\t\t\tcaracter = mensajeObtenidoCliente.charAt(i);\n",
    "\t\t\t\tcaracter = (char) (caracter +3);\n",
    "\t\t\t\trespuesta += Character.toString((caracter)) + \"\";\n",
    "\t\t\t}\n",
    "\t\t}\n",
    "\t\telse {\n",
    "\t\t\trespuesta = \"::El cliente no envio texto para encriptar::\";\n",
    "\t\t}\n",
    "\t\treturn respuesta;\n",
    "\t\t\n",
    "\t}\n",
    "\t\n",
    "\t\n",
    "\n",
    "}\n"
   ]
  },
  {
   "cell_type": "markdown",
   "metadata": {},
   "source": [
    "## 4.3.2 Cliente"
   ]
  },
  {
   "cell_type": "code",
   "execution_count": null,
   "metadata": {},
   "outputs": [],
   "source": [
    "package schema;\n",
    "\n",
    "import java.io.BufferedReader;\n",
    "import java.io.BufferedWriter;\n",
    "import java.io.DataInputStream;\n",
    "import java.io.DataOutputStream;\n",
    "import java.io.InputStreamReader;\n",
    "import java.io.OutputStreamWriter;\n",
    "import java.net.Socket;\n",
    "\n",
    "public class Cliente {\n",
    "\t\n",
    "\t/*\n",
    "\t * \n",
    "\t * Direccion local de la maquina\n",
    "\t */\n",
    "\tpublic static final String LOCAL_HOST = \"localhost\";\n",
    "\t/**\n",
    "\t * Puerto por donde se establecera la conexion\n",
    "\t */\n",
    "\tpublic static final int PORT = 8000;\n",
    "\t/**\n",
    "\t * Socket que permitira la conexion con el servidor\n",
    "\t */\n",
    "\tprivate static Socket socket;\n",
    "\t\n",
    "\t/**\n",
    "\t * Main\n",
    "\t * @param args\n",
    "\t */\n",
    "\tpublic static void main(String[] args) {\n",
    "\t\t\n",
    "\t\tDataInputStream in;\n",
    "\t\tDataOutputStream out;\n",
    "\n",
    "\t\ttry {\n",
    "\t\t\t\n",
    "\t\t\tBufferedReader br = new BufferedReader(new InputStreamReader( System.in));\n",
    "\t\t\tBufferedWriter bw = new BufferedWriter(new OutputStreamWriter(System.out));\n",
    "\t\t\t\n",
    "\t\t\tSystem.out.println(\"::Cliente disponible para ser atendido:: \\nIngrese \"\n",
    "\t\t\t\t\t+ \"el mensaje para encriptar!!::\");\n",
    "\t\t\t\n",
    "\t\t\tsocket = new Socket(LOCAL_HOST, PORT);\n",
    "\t\t\tString mensaje = br.readLine();\n",
    "\t\t\tin = new DataInputStream(socket.getInputStream());\n",
    "\t\t\tout = new DataOutputStream(socket.getOutputStream());\n",
    "\t\t\tout.writeUTF(mensaje);\n",
    "\t\t\tString mensajeDelServidor = in.readUTF();\n",
    "\t\t\tbw.write(\"Su encriptacion fue : \" + mensajeDelServidor);\n",
    "\t\t\tbw.flush();\n",
    "\t\t\tbw.close();\n",
    "\t\t\tbr.close();\n",
    "\t\t\tsocket.close();\n",
    "\t\t\tin.close();\n",
    "\t\t\tout.close();\n",
    "\n",
    "\t\t} catch (Exception e) {\n",
    "\t\t\t// TODO: handle exception\n",
    "\t\t}\n",
    "\t\t\n",
    "\t\t\n",
    "\t}\n",
    "\t\n",
    "\n",
    "}\n"
   ]
  },
  {
   "cell_type": "markdown",
   "metadata": {},
   "source": [
    "link : https://github.com/JulioCe98/Networks_Monitory/tree/master/Guias/Semana%202/Java"
   ]
  },
  {
   "cell_type": "markdown",
   "metadata": {},
   "source": [
    "---"
   ]
  },
  {
   "cell_type": "markdown",
   "metadata": {},
   "source": [
    "# Reto 1 : Encriptacion Cesar && Reto 1.5 : Encriptacion Cesar plus "
   ]
  },
  {
   "cell_type": "markdown",
   "metadata": {},
   "source": [
    "link : https://github.com/JulioCe98/Networks_Monitory/blob/master/Retos/Libro%20de%20Retos.ipynb"
   ]
  }
 ],
 "metadata": {
  "kernelspec": {
   "display_name": "Python 3",
   "language": "python",
   "name": "python3"
  },
  "language_info": {
   "codemirror_mode": {
    "name": "ipython",
    "version": 3
   },
   "file_extension": ".py",
   "mimetype": "text/x-python",
   "name": "python",
   "nbconvert_exporter": "python",
   "pygments_lexer": "ipython3",
   "version": "3.7.3"
  }
 },
 "nbformat": 4,
 "nbformat_minor": 2
}
