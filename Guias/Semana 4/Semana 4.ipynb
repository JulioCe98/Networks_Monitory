{
 "cells": [
  {
   "cell_type": "markdown",
   "metadata": {},
   "source": [
    "# Soporte en el proyecto de investigacion + introduccion a hilos en java + ejemplo + hacknet"
   ]
  },
  {
   "cell_type": "markdown",
   "metadata": {},
   "source": [
    "---"
   ]
  },
  {
   "cell_type": "markdown",
   "metadata": {},
   "source": [
    "# 1. Introduccion a hilos en java"
   ]
  },
  {
   "cell_type": "markdown",
   "metadata": {},
   "source": [
    "## 1.1 Ventajas"
   ]
  },
  {
   "cell_type": "markdown",
   "metadata": {},
   "source": [
    "\n",
    "\n",
    "1. Nos permite ejecutar varios procesos paralelos a la vez\n",
    "\n",
    "2. Permiten exponer servicios desde un servidor, lo que permite que este realice varias tareas a la vez sin importar que esta haciendo el flujo principal"
   ]
  },
  {
   "cell_type": "markdown",
   "metadata": {},
   "source": [
    "<img src=\"./Resources/h1.png\">\n"
   ]
  },
  {
   "cell_type": "markdown",
   "metadata": {},
   "source": [
    "<img src=\"./Resources/h2.png\">\n"
   ]
  },
  {
   "cell_type": "markdown",
   "metadata": {},
   "source": [
    "<img src=\"./Resources/h3.png\">\n"
   ]
  },
  {
   "cell_type": "markdown",
   "metadata": {},
   "source": [
    "<img src=\"./Resources/h4.png\">\n"
   ]
  },
  {
   "cell_type": "markdown",
   "metadata": {},
   "source": [
    "## Metodos En Java"
   ]
  },
  {
   "cell_type": "markdown",
   "metadata": {},
   "source": [
    "#### void start(): usado para iniciar el cuerpo de la thread definido por el método run().\n",
    "\n",
    "#### void sleep(): pone a dormir una thread por un  tiempo mínimo especificado.\n",
    "\n",
    "#### void join(): usado para esperar por el término de la thread sobre la cual el método es invocado, por ejemplo por término de método run().\n",
    "\n",
    "#### void yield(): Mueve a la thread desde el estado de corriendo al final de la cola de procesos en espera por la CPU.\n",
    "\n",
    "#### Deprecados:\n",
    "\n",
    "#### void stop() el cual detiene la ejecución de la thread no importando consideración alguna.\n",
    "\n",
    "#### void  suspend() el cual para temporalmente la ejecución de una thread.\n",
    "\n",
    "#### void resume() reactiva una thread suspendida."
   ]
  },
  {
   "cell_type": "markdown",
   "metadata": {},
   "source": [
    "## 1.2 Ejemplo en Java"
   ]
  },
  {
   "cell_type": "code",
   "execution_count": null,
   "metadata": {},
   "outputs": [],
   "source": [
    "package Schema;\n",
    "\n",
    "import java.util.ArrayList;\n",
    "\n",
    "public class Hilos {\n",
    "\t\n",
    "\tprivate static int global = 0;\n",
    "\t\n",
    "\tprivate static ArrayList<Thread> threads = new ArrayList<Thread>();\n",
    "\t\n",
    "\t\n",
    "\tpublic static void init() {\n",
    "\t\t\n",
    "\t\tfor (int i = 0; i < 4; i++) {\n",
    "\t\t\t\n",
    "\t\t\tThread thread = new Thread(new Runnable() {\t\t\n",
    "\t\t\t\t@Override\n",
    "\t\t\t\tpublic void run() {\n",
    "\t\t\t\t\tSystem.out.println(\"Init Thread number : \" + global);\n",
    "\t\t\t\t\tswitch (global) {\n",
    "\t\t\t\t\tcase 0:\n",
    "\t\t\t\t\t\tfor (int j = 0; j < 10; j++) {\n",
    "\t\t\t\t\t\t\tSystem.out.println(\"Thread Number :\" + global + \" say : \" + j);\n",
    "\t\t\t\t\t\t}\n",
    "\t\t\t\t\t\tbreak;\n",
    "\t\t\t\t\tcase 1:\n",
    "\t\t\t\t\t\tfor (int j = 0; j < 10; j++) {\n",
    "\t\t\t\t\t\t\tif(j%2==0) {\n",
    "\t\t\t\t\t\t\t\tSystem.out.println(\"Thread Number :\" + global + \"say : \" + j);\n",
    "\t\t\t\t\t\t\t}\n",
    "\t\t\t\t\t\t}\n",
    "\t\t\t\t\t\tbreak;\n",
    "\t\t\t\t\tcase 2:\n",
    "\t\t\t\t\t\tfor (int j = 0; j < 10; j++) {\n",
    "\t\t\t\t\t\t\tif(j%2!=0) {\n",
    "\t\t\t\t\t\t\t\tSystem.out.println(\"Thread Number :\" + global + \"say : \" + j);\n",
    "\t\n",
    "\t\t\t\t\t\t\t}\n",
    "\t\t\t\t\t\t}\n",
    "\t\t\t\t\t\tbreak;\n",
    "\t\t\t\t\tcase 3:\n",
    "\t\t\t\t\t\tfor (int j = 0; j < 10; j++) {\n",
    "\t\t\t\t\t\t\tSystem.out.println(\"Thread Number :\" + global + \"say : \" + j*3);\n",
    "\t\t\t\t\t\t\t\n",
    "\t\t\t\t\t\t}\n",
    "\t\t\t\t\t\tbreak;\n",
    "\n",
    "\t\t\t\t\tdefault:\n",
    "\t\t\t\t\t\tbreak;\n",
    "\t\t\t\t\t}\n",
    "\t\t\t\t\tglobal++;\n",
    "\t\t\t\t}\n",
    "\t\t\t});\n",
    "\t\t\t\n",
    "\t\t\tthreads.add(thread);\n",
    "\t\t\t\t\n",
    "\t\t}\n",
    "\t\t\n",
    "\t\trunThreads();\n",
    "\t\t\n",
    "\t\t\n",
    "\t}\n",
    "\n",
    "\n",
    "\tprivate static void runThreads() {\n",
    "\t\t\n",
    "\t\tfor (int i = 0; i < threads.size(); i++) {\n",
    "\t\t\tthreads.get(i).start();\n",
    "\t\t\ttry {\n",
    "\t\t\t\tthreads.get(i).sleep(1000);\n",
    "\t\t\t} catch (InterruptedException e) {\n",
    "\t\t\t\t// TODO Auto-generated catch block\n",
    "\t\t\t\te.printStackTrace();\n",
    "\t\t\t}\n",
    "\t\t}\n",
    "\t\t\n",
    "\t}\n",
    "\t\n",
    "\tpublic static void main(String[] args) {\n",
    "\t\t\n",
    "\t\tinit();\n",
    "\t\t\n",
    "\t\t\n",
    "\t}\n",
    "\t\n",
    "\t\n",
    "\n",
    "}\n"
   ]
  },
  {
   "cell_type": "markdown",
   "metadata": {},
   "source": [
    "En el codigo anterior podemos evidenciar 4 hilos que se inician consecutivamente, con un tiempo muerto de 1000 milisegundos, en el cual obtenemos el siguiente resultado :"
   ]
  },
  {
   "cell_type": "markdown",
   "metadata": {},
   "source": [
    "<img src=\"./Resources/r1.png\">\n"
   ]
  },
  {
   "cell_type": "markdown",
   "metadata": {},
   "source": [
    "Como podemos observar, los hilos se ejecutan de manera normal ya que tenemos un tiempo de 1000 milisegundos que los separa, pero que sucedera si acortamos a 0 milisegundos?"
   ]
  },
  {
   "cell_type": "markdown",
   "metadata": {},
   "source": [
    "<img src=\"./Resources/r2.png\">\n"
   ]
  },
  {
   "cell_type": "markdown",
   "metadata": {},
   "source": [
    "Como podemos ver, la variable global que se incrementaba cada que un hilo se ejecutaba, no esta siendo modificada ya que practicamente todos los hilos se han puesto en ejecucion casi al mismo tiempo"
   ]
  },
  {
   "cell_type": "markdown",
   "metadata": {},
   "source": [
    "link : https://github.com/JulioCe98/Networks_Monitory/tree/master/Guias/Semana%204/Java"
   ]
  },
  {
   "cell_type": "markdown",
   "metadata": {},
   "source": [
    "## 1.3 Reto 2"
   ]
  },
  {
   "cell_type": "markdown",
   "metadata": {},
   "source": [
    "link : https://github.com/JulioCe98/Networks_Monitory/tree/master/Retos"
   ]
  },
  {
   "cell_type": "markdown",
   "metadata": {},
   "source": [
    "---"
   ]
  },
  {
   "cell_type": "markdown",
   "metadata": {},
   "source": [
    "# 2. Hacknet"
   ]
  },
  {
   "cell_type": "markdown",
   "metadata": {},
   "source": [
    "<img src=\"./Resources/hacknet.jpg\">\n"
   ]
  }
 ],
 "metadata": {
  "kernelspec": {
   "display_name": "Python 3",
   "language": "python",
   "name": "python3"
  },
  "language_info": {
   "codemirror_mode": {
    "name": "ipython",
    "version": 3
   },
   "file_extension": ".py",
   "mimetype": "text/x-python",
   "name": "python",
   "nbconvert_exporter": "python",
   "pygments_lexer": "ipython3",
   "version": "3.7.3"
  }
 },
 "nbformat": 4,
 "nbformat_minor": 2
}
