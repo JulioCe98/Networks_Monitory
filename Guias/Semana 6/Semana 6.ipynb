{
 "cells": [
  {
   "cell_type": "markdown",
   "metadata": {},
   "source": [
    "# Semana 6 : Clase practica : Introduccion a SSL + hacknet + Qahoot"
   ]
  },
  {
   "cell_type": "markdown",
   "metadata": {},
   "source": [
    "---"
   ]
  },
  {
   "cell_type": "markdown",
   "metadata": {},
   "source": [
    "# 1.  Introduccion a SSL"
   ]
  },
  {
   "cell_type": "markdown",
   "metadata": {},
   "source": [
    "<img src=\"./Resources/security.jpeg\">\n"
   ]
  },
  {
   "cell_type": "markdown",
   "metadata": {},
   "source": [
    "## 1.1 Windows "
   ]
  },
  {
   "cell_type": "markdown",
   "metadata": {},
   "source": [
    "Link : http://chuwiki.chuidiang.org/index.php?title=Socket_SSL_con_Java"
   ]
  },
  {
   "cell_type": "markdown",
   "metadata": {},
   "source": [
    "## 1.2 Mac"
   ]
  },
  {
   "cell_type": "markdown",
   "metadata": {},
   "source": [
    "Link : "
   ]
  },
  {
   "cell_type": "markdown",
   "metadata": {},
   "source": [
    "---"
   ]
  },
  {
   "cell_type": "markdown",
   "metadata": {},
   "source": [
    "## 1.3 Introduccion al Ejemplo"
   ]
  },
  {
   "cell_type": "markdown",
   "metadata": {},
   "source": [
    "### 1.3.1 Server"
   ]
  },
  {
   "cell_type": "code",
   "execution_count": null,
   "metadata": {},
   "outputs": [],
   "source": [
    "package Modelo;\n",
    "import java.io.*;\n",
    "import java.net.*;\n",
    "\n",
    "import javax.net.ssl.SSLServerSocketFactory;\n",
    "\n",
    "public class SSLServerSocket {\n",
    "\n",
    "\tpublic static final String KEYSTORE_LOCATION = \"/Users/julioce/keystore.jks\";\n",
    "\tpublic static final String KEYSTORE_PASSWORD = \"shwq\";\n",
    "\n",
    "\tpublic static void main(String[] args) {\n",
    "\t\t// TODO Auto-generated method stub\n",
    "\t\tSystem.setProperty(\"javax.net.ssl.keyStore\", KEYSTORE_LOCATION);\n",
    "\t\tSystem.setProperty(\"javax.net.ssl.keyStorePassword\", KEYSTORE_PASSWORD);\n",
    "\t\tSSLServerSocketFactory ssf = (SSLServerSocketFactory) SSLServerSocketFactory.getDefault();\n",
    "\t\ttry {\n",
    "\t\t\tServerSocket serverSocket = ssf.createServerSocket(8000);\n",
    "\t\t\tSystem.out.println(\"SSLServerSocket Started in \"+ serverSocket.getLocalPort());\n",
    "\t\t\t\n",
    "\t\t\tSocket socket = serverSocket.accept();\n",
    "\t\t\tPrintWriter out = new PrintWriter(socket.getOutputStream(), true);\n",
    "\t\t\tBufferedReader br = new BufferedReader(new InputStreamReader(socket.getInputStream()));\n",
    "\t\t\tSystem.out.println(\"Client socket created\");\n",
    "\t\t\t\n",
    "\t\t\tString line = null;\n",
    "\t\t\twhile(((line = br.readLine()) != null))\n",
    "\t\t\t{\n",
    "\t\t\t\tSystem.out.println(line);\n",
    "\t\t\t\t\n",
    "\t\t\t}\n",
    "\t\t\tbr.close();\n",
    "\t\t\tout.close();\n",
    "\t\t\tsocket.close();\n",
    "\t\t\tserverSocket.close();\n",
    "\t\t\tSystem.out.println(\"SSLServerSocket Teminated\");\n",
    "\t\t\t\n",
    "\t\t} catch (IOException e) {\n",
    "\t\t\t// TODO Auto-generated catch block\n",
    "\t\t\te.printStackTrace();\n",
    "\t\t}\n",
    "\t\t\n",
    "\t}\n",
    "\n",
    "}\n"
   ]
  },
  {
   "cell_type": "markdown",
   "metadata": {},
   "source": [
    "### 1.3.2 Cliente"
   ]
  },
  {
   "cell_type": "code",
   "execution_count": null,
   "metadata": {},
   "outputs": [],
   "source": [
    "package Modelo;\n",
    "import java.io.*;\n",
    "import java.net.*;\n",
    "import java.util.Scanner;\n",
    "\n",
    "import javax.net.ssl.SSLSocketFactory;\n",
    "public class SSLClient {\n",
    "public static final String TRUSTTORE_LOCATION = \"/Users/julioce/keystore.jks\";\n",
    "\t\n",
    "\tpublic static void main(String[] args) {\n",
    "\t\t// TODO Auto-generated method stub\n",
    "\t\tSystem.out.println(\"SSLClientSocket Started\");\n",
    "\t\t// this an argument like -Djavax.net.ssl.trustStore=\"keystore\"....\n",
    "\t\tSystem.setProperty(\"javax.net.ssl.trustStore\", TRUSTTORE_LOCATION);\n",
    "\t\tSSLSocketFactory sf = (SSLSocketFactory) SSLSocketFactory.getDefault();\n",
    "\t\t\n",
    "\t\tSocket socket;\n",
    "\t\ttry {\n",
    "\t\t\tsocket = sf.createSocket(\"localhost\", 8000);\n",
    "\t\t\tPrintWriter out = new PrintWriter(socket.getOutputStream(), true);\n",
    "\t\t\tBufferedReader br = new BufferedReader(new InputStreamReader(socket.getInputStream()));\n",
    "\t\t\tScanner scanner = new Scanner(System.in);\n",
    "\t\t\twhile(true)\n",
    "\t\t\t{\n",
    "\t\t\t\tSystem.out.println(\"Enter text: \");\n",
    "\t\t\t\tString inputLine = scanner.nextLine();\n",
    "\t\t\t\tif(\"quit\".equalsIgnoreCase(inputLine)) \n",
    "\t\t\t\t{\n",
    "\t\t\t\t\tbreak;\n",
    "\t\t\t\t}\n",
    "\t\t\t\tout.println(inputLine);\n",
    "\t\t\t\tSystem.out.println(\"Server response: \"+  br.readLine());\n",
    "\t\t\t}\n",
    "\t\t\tSystem.out.println(\"SSLServerSocket Terminated\");\n",
    "\n",
    "\t\t} catch (UnknownHostException e) {\n",
    "\t\t\t// TODO Auto-generated catch block\n",
    "\t\t\te.printStackTrace();\n",
    "\t\t} catch (IOException e) {\n",
    "\t\t\t// TODO Auto-generated catch block\n",
    "\t\t\te.printStackTrace();\n",
    "\t\t}\n",
    "\t\t\t\t\n",
    "\t\t\n",
    "\t}\n",
    "\n",
    "}"
   ]
  },
  {
   "cell_type": "markdown",
   "metadata": {},
   "source": [
    "Link : https://github.com/JulioCe98/Networks_Monitory/tree/master/Guias/Semana%206/Java"
   ]
  },
  {
   "cell_type": "markdown",
   "metadata": {},
   "source": [
    "---"
   ]
  },
  {
   "cell_type": "markdown",
   "metadata": {},
   "source": [
    "# 2. Kahoot"
   ]
  },
  {
   "cell_type": "markdown",
   "metadata": {},
   "source": [
    "<img src=\"./Resources/kahoot.jpeg\">"
   ]
  },
  {
   "cell_type": "markdown",
   "metadata": {},
   "source": [
    "---"
   ]
  },
  {
   "cell_type": "markdown",
   "metadata": {},
   "source": [
    "# 3. Hacknet"
   ]
  },
  {
   "cell_type": "markdown",
   "metadata": {},
   "source": [
    "<img src=\"./Resources/Hacknet.jpg\">"
   ]
  },
  {
   "cell_type": "markdown",
   "metadata": {},
   "source": [
    "---"
   ]
  },
  {
   "cell_type": "markdown",
   "metadata": {},
   "source": [
    "# 4. Introduccion a MVC (Modelo opcional para entrega de practicos)"
   ]
  },
  {
   "cell_type": "markdown",
   "metadata": {},
   "source": [
    "Link : https://github.com/JulioCe98/Networks_Monitory/tree/master/Guias/Semana%206/Java"
   ]
  },
  {
   "cell_type": "markdown",
   "metadata": {},
   "source": [
    "## 4.1 Jerarquia de carpetas"
   ]
  },
  {
   "cell_type": "markdown",
   "metadata": {},
   "source": [
    "<img src=\"./Resources/Jerarquia.png\">"
   ]
  },
  {
   "cell_type": "markdown",
   "metadata": {},
   "source": [
    "En la anterior imagen se puede evidenciar el patron MVC. En este, se desacopla la vista de la logica del negocio, con el fin de mejorar la visualizacion del proyecto (implementando las buenas practicas de programacion)"
   ]
  },
  {
   "cell_type": "code",
   "execution_count": null,
   "metadata": {},
   "outputs": [],
   "source": [
    "package controlador;\n",
    "\n",
    "import modelo.Logica;\n",
    "import vista.VentanaBuscar;\n",
    "import vista.VentanaPrincipal;\n",
    "import vista.VentanaRegistro;\n",
    "\n",
    "public class Principal {\n",
    "\t\n",
    "\tLogica miLogica;\n",
    "\tVentanaPrincipal miVentanaPrincipal;\n",
    "\tVentanaBuscar miVentanaBuscar;\n",
    "\tVentanaRegistro miVentanaRegistro;\n",
    "\tCoordinador miCoordinador;\n",
    "\n",
    "\t/**\n",
    "\t * @param args\n",
    "\t */\n",
    "\tpublic static void main(String[] args) {\n",
    "\t\tPrincipal miPrincipal=new Principal();\n",
    "\t\tmiPrincipal.iniciar();\n",
    "\t}\n",
    "\n",
    "\t/**\n",
    "\t * Permite instanciar todas las clases con las que trabaja\n",
    "\t * el sistema\n",
    "\t */\n",
    "\tprivate void iniciar() {\n",
    "\t\t/*Se instancian las clases*/\n",
    "\t\tmiVentanaPrincipal=new VentanaPrincipal();\n",
    "\t\tmiVentanaRegistro=new VentanaRegistro();\n",
    "\t\tmiVentanaBuscar= new VentanaBuscar();\n",
    "\t\tmiLogica=new Logica();\n",
    "\t\tmiCoordinador= new Coordinador();\n",
    "\t\t\n",
    "\t\t/*Se establecen las relaciones entre clases*/\n",
    "\t\tmiVentanaPrincipal.setCoordinador(miCoordinador);\n",
    "\t\tmiVentanaRegistro.setCoordinador(miCoordinador);\n",
    "\t\tmiVentanaBuscar.setCoordinador(miCoordinador);\n",
    "\t\tmiLogica.setCoordinador(miCoordinador);\n",
    "\t\t\n",
    "\t\t/*Se establecen relaciones con la clase coordinador*/\n",
    "\t\tmiCoordinador.setMiVentanaPrincipal(miVentanaPrincipal);\n",
    "\t\tmiCoordinador.setMiVentanaRegistro(miVentanaRegistro);\n",
    "\t\tmiCoordinador.setMiVentanaBuscar(miVentanaBuscar);\n",
    "\t\tmiCoordinador.setMiLogica(miLogica);\n",
    "\t\t\t\t\n",
    "\t\tmiVentanaPrincipal.setVisible(true);\n",
    "\t}\n",
    "\n",
    "}\n"
   ]
  },
  {
   "cell_type": "markdown",
   "metadata": {},
   "source": [
    "Los controladores se encargaran de dar manejo a los objetos que estaran en constante interaccion con el usuario, por ejemplo el siguiente :"
   ]
  },
  {
   "cell_type": "markdown",
   "metadata": {},
   "source": [
    "<img src=\"./Resources/vista.png\">"
   ]
  },
  {
   "cell_type": "markdown",
   "metadata": {},
   "source": [
    "Entramos a ejecutar el programa. Una vez inspeccionamos el codigo, nos podemos dar cuenta que el panel ventanaPrincipal tiene una reacion directa con el cooordinador (Controller), el cual tendra los metodos de despliegue de las siguientes ventanas."
   ]
  },
  {
   "cell_type": "markdown",
   "metadata": {},
   "source": [
    "<img src=\"./Resources/enlaceCoordinador.png\">"
   ]
  },
  {
   "cell_type": "markdown",
   "metadata": {},
   "source": [
    "<img src=\"./Resources/coordinador.png\">"
   ]
  },
  {
   "cell_type": "markdown",
   "metadata": {},
   "source": []
  }
 ],
 "metadata": {
  "kernelspec": {
   "display_name": "Python 3",
   "language": "python",
   "name": "python3"
  },
  "language_info": {
   "codemirror_mode": {
    "name": "ipython",
    "version": 3
   },
   "file_extension": ".py",
   "mimetype": "text/x-python",
   "name": "python",
   "nbconvert_exporter": "python",
   "pygments_lexer": "ipython3",
   "version": "3.7.3"
  }
 },
 "nbformat": 4,
 "nbformat_minor": 4
}
