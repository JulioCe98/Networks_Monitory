{
 "cells": [
  {
   "cell_type": "markdown",
   "metadata": {},
   "source": [
    "# Semana 9 : Introduccion a Udp + Kahoot + Chat utilizando UDP\n"
   ]
  },
  {
   "cell_type": "markdown",
   "metadata": {},
   "source": [
    "---"
   ]
  },
  {
   "cell_type": "markdown",
   "metadata": {},
   "source": [
    "# 1. Kahoot"
   ]
  },
  {
   "cell_type": "markdown",
   "metadata": {},
   "source": [
    "<img src=\"./Resources/kahoot.jpeg\">"
   ]
  },
  {
   "cell_type": "markdown",
   "metadata": {},
   "source": [
    "---"
   ]
  },
  {
   "cell_type": "markdown",
   "metadata": {},
   "source": [
    "# 2. UDP"
   ]
  },
  {
   "cell_type": "markdown",
   "metadata": {},
   "source": [
    "Existen aplicaciones que no usan el protocolo TCP dado que pueden beneficiarse de un modo de comunicación que envíe mensajes cuya llegada y orden de llegada no están garantizados. Este protocolo es el denominado UDP, el cual envía paquetes de datos a través de la red. \n",
    "\n",
    "Se introduce un nuevo concepto denominado **DATAGRAMA** el cual es un mensaje independiente y auto-contenido que se envía a través de la red"
   ]
  },
  {
   "cell_type": "markdown",
   "metadata": {},
   "source": [
    "1.  Proporciona comunicación NOAC\n",
    "2. Envía datagramas entre las aplicaciones\n",
    "3. Cada datagrama es independiente de los demás y no garantiza su llegada\n",
    "4. Se utiliza cuando el protocolo TCP no es necesario en el caso a utilizar"
   ]
  },
  {
   "cell_type": "markdown",
   "metadata": {},
   "source": [
    "las aplicaciones que se comunican utilizando datagramas enviar y reciben paquetes de información independientes. El envío y entrega de los datagramas a su destino no esta garantizado como tampoco el orden de llegada.\n",
    "\n",
    "Respecto a Java, podemos encontrar 3 clases que nos serán de mucha utilidad :"
   ]
  },
  {
   "cell_type": "markdown",
   "metadata": {},
   "source": [
    "1. DatagramSocket\n",
    "2. DatagramPacket\n",
    "3. MulticastSocket"
   ]
  },
  {
   "cell_type": "markdown",
   "metadata": {},
   "source": [
    "## 2.1 Chat P2P usando UDP"
   ]
  },
  {
   "cell_type": "markdown",
   "metadata": {},
   "source": [
    "### 2.1.1 Server"
   ]
  },
  {
   "cell_type": "code",
   "execution_count": null,
   "metadata": {},
   "outputs": [],
   "source": [
    "package Schema;\n",
    "import java.io.*;\n",
    "import java.net.*;\n",
    "\n",
    "public class Server {\n",
    "\n",
    "\t@SuppressWarnings(\"resource\")\n",
    "\tpublic static void main(String[] args) {\n",
    "\t\n",
    "\t\tSystem.out.println(\"El servidor va a ponerse a la escucha, un momento mientras se leen los parametros\");\n",
    "\t\tint port = 4350;\n",
    "\t\tDatagramSocket socketServidor = null;\n",
    "\n",
    "\t\t\t\t try {\n",
    "\t\t\t\t socketServidor = new DatagramSocket(port);\n",
    "\t\t\t\t } \n",
    "\t\t\t\t catch (IOException e)\n",
    "\t\t\t\t {\n",
    "\t\t\t\t System.out.println(\"Error al crear el objeto socket servidor\");\n",
    "\t\t\t\t System.exit ( 0 );\n",
    "\n",
    "\t\t\t\t }\n",
    "\t\t byte [] recibirDatos = null;\n",
    "\t\t byte [] enviarDatos = null;\n",
    "\t     byte [] enviarDatos2 = null;\n",
    "\t\t while(true)\n",
    "\t\t {\n",
    "\n",
    "\t\t\t recibirDatos =  new byte[1024];\n",
    "\t\t\t enviarDatos =  new byte[1024];\n",
    "\t\t\t enviarDatos2 =  new byte[1024];\n",
    "\t\t\n",
    "\t\t DatagramPacket recibirPaquete = new DatagramPacket(recibirDatos, recibirDatos.length);\n",
    "\t\n",
    "\t\t try {        \n",
    "\t\t\t socketServidor.receive(recibirPaquete);\n",
    "\n",
    "\t\t } catch (IOException e)\n",
    "\t\n",
    "\t\t {\n",
    "\t\t System.out.println(\"Error al recibir\");\n",
    "\t\t System.exit ( 0 );\n",
    "\n",
    "\t\t }\n",
    "\t\t String frase = new String(recibirPaquete.getData());\n",
    "\t\t InetAddress DireccionIP = recibirPaquete.getAddress();\n",
    "\t\t int puerto = recibirPaquete.getPort();\n",
    "\t\t String respuesta = manejoDeDatos1(frase);\n",
    "\t\t enviarDatos = respuesta.getBytes();\n",
    "\t\t DatagramPacket enviarPaquete = new DatagramPacket(enviarDatos, enviarDatos.length, DireccionIP, puerto);\n",
    "\t\ttry {        \n",
    "\t\t\t\t socketServidor.send(enviarPaquete);\n",
    "\t\t\t } catch (IOException e)\n",
    "\t\t\t {\n",
    "\t\t\t System.out.println(\"Error al recibir\");\n",
    "\t\t\t System.exit ( 0 );\n",
    "\t\t\n",
    "\t\t\t }\n",
    "\t\t \n",
    "\t\t\n",
    "\t\t// String fraseMayusculas = frase.toUpperCase();\n",
    "\t\t}\n",
    "\t}\n",
    "\t/*private static String manejoDeDatos(String frase) {\n",
    "\t\tdouble valor = 0;\n",
    "\t\tString[] caracteres = frase.split(\",\");\n",
    "\t\tswitch (caracteres[1]) {\n",
    "\t\tcase \"-\":\n",
    "\t\t\tvalor = Integer.parseInt(caracteres[0].trim()) - Integer.parseInt(caracteres[2].trim());\n",
    "\t\t\tbreak;\n",
    "\t\t\n",
    "\t\tcase \"*\":\n",
    "\t\t\tvalor = Integer.parseInt(caracteres[0].trim()) * Integer.parseInt(caracteres[2].trim());\n",
    "\t\t\tbreak;\n",
    "\t\t\t\n",
    "\t\tcase \"/\":\n",
    "\t\t\tvalor = Integer.parseInt(caracteres[0].trim()) / Integer.parseInt(caracteres[2].trim());\n",
    "\t\t\tbreak;\n",
    "\n",
    "\t\tdefault:\n",
    "\t\t\tint x = Integer.parseInt(caracteres[0].trim());\n",
    "\t\t\tint y = Integer.parseInt(caracteres[2].trim());\n",
    "\t\t\tvalor = x + y;\n",
    "\t\t\tbreak;\n",
    "\t\t}\n",
    "\t\t\n",
    "\t\treturn valor + \"\";\n",
    "\t}\n",
    "*/\n",
    "\t\n",
    "\tprivate static String manejoDeDatos1(String frase) {\n",
    "\tString mensaje = \"\";\n",
    "\tif(frase != null && frase != \"\") {\n",
    "\t\ttry {\n",
    "\t\tSystem.out.println(frase);\n",
    "\t\tBufferedReader bf = new BufferedReader(new InputStreamReader(System.in));\n",
    "\t\n",
    "\t    mensaje = bf.readLine();\n",
    "\t\t} catch (IOException e) {\n",
    "\t\t\t// TODO Auto-generated catch block\n",
    "\t\t\te.printStackTrace();\n",
    "\t\t}\n",
    "\t}\n",
    "\treturn mensaje;\n",
    "\t\n",
    "}\n",
    "\t\n",
    "\t\n",
    "}\n"
   ]
  },
  {
   "cell_type": "markdown",
   "metadata": {},
   "source": [
    "### 2.1.2 Cliente"
   ]
  },
  {
   "cell_type": "code",
   "execution_count": null,
   "metadata": {},
   "outputs": [],
   "source": [
    "package  Schema;\n",
    "\n",
    "import java.io.BufferedReader;\n",
    "import java.io.IOException;\n",
    "import java.io.InputStreamReader;\n",
    "import java.net.DatagramPacket;\n",
    "import java.net.DatagramSocket;\n",
    "import java.net.InetAddress;\n",
    "\n",
    "public class Cliente\n",
    "{\n",
    "\n",
    "public static void main(String[] args) throws IOException {\n",
    "\t\t\n",
    "\t\tBufferedReader bf = new BufferedReader(new InputStreamReader(System.in));\n",
    "\t\tint port = 4350;\n",
    "\t\tSystem.out.println(\"Ingrese la ip a la que enviara la informacion\");\n",
    "\t\tString ip  = bf.readLine();\n",
    "\t\tSystem.out.println(\"Ingrese el mensaje\");\n",
    "\t\t byte [] enviarDatos = new byte[1024];\n",
    "\t\t byte [] recibirDatos = new byte[1024];\n",
    "\t\t\n",
    "\t\t DatagramSocket socketCliente = null;\n",
    "\t\t try {\n",
    "\t\t\t socketCliente = new DatagramSocket();\n",
    "\t\t } \n",
    "\t\t catch (IOException e)\n",
    "\t\t {\n",
    "\t\t\t System.out.println(\"Error al crear el objeto socket cliente\");\n",
    "\t\t\t System.exit ( 0 );\n",
    "\t\t }\n",
    "\t\t\n",
    "\t\t InetAddress DireccionIP = null;\n",
    "\t\t try \n",
    "\t\t {\n",
    "\t\t\tDireccionIP = InetAddress.getByName(ip);\n",
    "\t\t } \n",
    "\t\t catch (IOException e)\n",
    "\t\t {\n",
    "\t\t\tSystem.out.println(\"Error al recuperar la IP del proceso\");\n",
    "\t\t\tSystem.exit ( 0 );\n",
    "\t\t }\n",
    "\t\twhile(true) \n",
    "\t\t{\n",
    "\t\t\t recibirDatos = new byte[1024];\n",
    "\t\t\t String operacion = bf.readLine(); \n",
    "\t\t\t enviarDatos = operacion.getBytes();\n",
    "\t\t\t DatagramPacket enviarPaquete = new DatagramPacket(enviarDatos, enviarDatos.length, DireccionIP, port);\n",
    "\t\t\t socketCliente.send(enviarPaquete);\n",
    "\t\t\t DatagramPacket recibirPaquete = new DatagramPacket(recibirDatos, recibirDatos.length);\n",
    "\t\t\t socketCliente.receive(recibirPaquete);\n",
    "\t\t\t String fraseModificada = new String(recibirPaquete.getData());\n",
    "\t\t\t System.out.println(fraseModificada);\n",
    "\t\t} \n",
    "\t}\n",
    "}"
   ]
  },
  {
   "cell_type": "markdown",
   "metadata": {},
   "source": [
    "Link : https://github.com/JulioCe98/Networks_Monitory/tree/master/Guias/Semana%209/Java"
   ]
  },
  {
   "cell_type": "markdown",
   "metadata": {},
   "source": [
    "## 2.2 Funcionamiento"
   ]
  },
  {
   "cell_type": "markdown",
   "metadata": {},
   "source": [
    "1. **Ejecutamos el servidor**"
   ]
  },
  {
   "cell_type": "markdown",
   "metadata": {},
   "source": [
    "<img src=\"./Resources/u1.png\">"
   ]
  },
  {
   "cell_type": "markdown",
   "metadata": {},
   "source": [
    "2. **Ejecutamos el cliente**"
   ]
  },
  {
   "cell_type": "markdown",
   "metadata": {},
   "source": [
    "<img src=\"./Resources/u2.png\">"
   ]
  },
  {
   "cell_type": "markdown",
   "metadata": {},
   "source": [
    "3. **Colocamos en el cliente \"localhost\" o \"127.0.0.1\".Presionamos enter**"
   ]
  },
  {
   "cell_type": "markdown",
   "metadata": {},
   "source": [
    "<img src=\"./Resources/u3.png\">"
   ]
  },
  {
   "cell_type": "markdown",
   "metadata": {},
   "source": [
    "4. **Digitamos el mensaje que queramos enviar al servidor**"
   ]
  },
  {
   "cell_type": "markdown",
   "metadata": {},
   "source": [
    "<img src=\"./Resources/u4.png\">"
   ]
  },
  {
   "cell_type": "markdown",
   "metadata": {},
   "source": [
    "5. **Revisamos el server y DEBE aparecer el mensaje que enviamos**"
   ]
  },
  {
   "cell_type": "markdown",
   "metadata": {},
   "source": [
    "<img src=\"./Resources/u5.png\">"
   ]
  },
  {
   "cell_type": "markdown",
   "metadata": {},
   "source": [
    "---"
   ]
  },
  {
   "cell_type": "markdown",
   "metadata": {},
   "source": [
    "## 2.3 Reto 5 :Ejemplos propuestos por los estudiantes\n"
   ]
  },
  {
   "cell_type": "markdown",
   "metadata": {},
   "source": [
    "Link : https://github.com/JulioCe98/Networks_Monitory/tree/master/Retos"
   ]
  },
  {
   "cell_type": "markdown",
   "metadata": {},
   "source": [
    "---"
   ]
  },
  {
   "cell_type": "markdown",
   "metadata": {},
   "source": [
    "# 3. Multicasting"
   ]
  },
  {
   "cell_type": "markdown",
   "metadata": {},
   "source": [
    "Existe alguna diferencia entre **multicasting y broadcasting?**"
   ]
  },
  {
   "cell_type": "markdown",
   "metadata": {},
   "source": [
    "### 3.1 Server"
   ]
  },
  {
   "cell_type": "code",
   "execution_count": null,
   "metadata": {},
   "outputs": [],
   "source": [
    "package Schema;\n",
    "\n",
    "import java.io.BufferedReader;\n",
    "import java.io.IOException;\n",
    "import java.io.InputStreamReader;\n",
    "import java.net.DatagramPacket;\n",
    "import java.net.DatagramSocket;\n",
    "import java.net.InetAddress;\n",
    "\n",
    "public class ServidorEmergencias {\n",
    "\t\n",
    "\tpublic boolean enviarMensaje(String mensaje) {\n",
    "\t\tboolean resultado = false;\n",
    "\t\t\n",
    "\t\ttry {\n",
    "\t\t\tDatagramSocket dSock = new DatagramSocket();\n",
    "\t\t\tDatagramPacket dPacket = null;\n",
    "\t\t\tInetAddress dirGrupo = InetAddress.getByName(\"239.1.2.2\");\n",
    "\t\t\n",
    "\t\t\tif(mensaje != null) {\n",
    "\t\t\t\tbyte[] buf = mensaje.getBytes();\n",
    "\t\t\t\tdPacket = new DatagramPacket(buf, buf.length,dirGrupo,5000);\n",
    "\t\t\t\tdSock.send(dPacket);\n",
    "\t\t\t\tresultado = true;\n",
    "\t\t\t}\n",
    "\t\t\t\n",
    "\t\t\tdSock.close();\n",
    "\t\t\n",
    "\t\t} catch (IOException e) {\n",
    "\t\t\t\n",
    "\t\t\tSystem.out.println(e);\n",
    "\t\t}\n",
    "\t\treturn resultado;\n",
    "\t}\n",
    "\t\n",
    "\t\n",
    "\tpublic static void main(String[] args) throws IOException {\n",
    "\t\t\n",
    "\t\tboolean continuar = true;\n",
    "\t\tString mensaje = null;\n",
    "\t\t\n",
    "\t\tServidorEmergencias server = new ServidorEmergencias();\n",
    "\t\twhile (continuar) {\n",
    "\t\t\tSystem.out.println(\"Ingrese (1) para MENSAJE, Ingrese (2) para TERMINAR\");\n",
    "\t\t\tBufferedReader bf = new BufferedReader(new InputStreamReader(System.in));\n",
    "\t\t\tint opcion = Integer.parseInt(bf.readLine());\n",
    "\t\t\tswitch (opcion) {\n",
    "\t\t\tcase 1:\n",
    "\t\t\t\tSystem.out.println(\"digite el mensaje a enviar!\");\n",
    "\t\t\t\tmensaje = bf.readLine();\n",
    "\t\t\t\tif (server.enviarMensaje(mensaje)) {\n",
    "\t\t\t\t\tSystem.out.println(\"mensaje enviado\");\n",
    "\t\t\t\t}\n",
    "\t\t\t\telse {\n",
    "\t\t\t\t\tSystem.out.println(\"Error al enviar el mensaje\");\n",
    "\t\t\t\t}\n",
    "\t\t\t\tbreak;\n",
    "\n",
    "\t\t\tcase 2:\n",
    "\t\t\t\tcontinuar = false;\n",
    "\t\t\t\tserver.enviarMensaje(\"FIN\");\n",
    "\t\t\t\tbreak;\n",
    "\t\t\t\n",
    "\t\t\t\n",
    "\t\t\tdefault:\n",
    "\t\t\t\tSystem.out.println(\"por favor seleccione una opcion correcta\");\n",
    "\t\t\t\tbreak;\n",
    "\t\t\t\n",
    "\t\t}\n",
    "\t\t\n",
    "\t}\n",
    "\n",
    "\t}\n",
    "}\n"
   ]
  },
  {
   "cell_type": "markdown",
   "metadata": {},
   "source": [
    "### 3.2 Client"
   ]
  },
  {
   "cell_type": "code",
   "execution_count": null,
   "metadata": {},
   "outputs": [],
   "source": [
    "package Schema;\n",
    "\n",
    "import java.io.IOException;\n",
    "import java.net.DatagramPacket;\n",
    "import java.net.InetAddress;\n",
    "import java.net.MulticastSocket;\n",
    "\n",
    "public class ClienteEmergencias {\n",
    "\t\n",
    "\t\n",
    "\tpublic static void main(String[] args) {\n",
    "\t\tboolean escuchar = true;\n",
    "\t\ttry {\n",
    "\t\t\tSystem.setProperty(\"java.net.preferIPv4Stack\", \"true\");\n",
    "\t\t\t//para unir el cliente al grupo\n",
    "\t\t\tMulticastSocket mSock = new MulticastSocket(5000);\n",
    "\t\t\tInetAddress dirGrupo = InetAddress.getByName(\"239.1.2.2\");\n",
    "\t\t\tmSock.joinGroup(dirGrupo);\n",
    "\t\t\t\n",
    "\t\t\twhile (escuchar) {\n",
    "\t\t\t\t//para recibir mensajes dirigidos al grupo\n",
    "\t\t\t\tbyte[] buf = new byte[1000];\n",
    "\t\t\t\tDatagramPacket recibe = new DatagramPacket(buf, buf.length);\n",
    "\t\t\t\tmSock.receive(recibe);\n",
    "\t\t\t\t\n",
    "\t\t\t\t//para obtener los datos del mensaje\n",
    "\t\t\t\t\n",
    "\t\t\t\t//String datos = new String(recibe.getData(),recibe.getLength());\n",
    "\t\t\t\tString datos = new String(recibe.getData(),0,recibe.getLength());\n",
    "\t\t\t\tif(!datos.equals(\"FIN\"))\n",
    "\t\t\t\t\tSystem.out.println(datos);\n",
    "\t\t\t\telse\n",
    "\t\t\t\t\tescuchar = false;\n",
    "\t\t\t\t\n",
    "\t\t\t\t//retirar cliente del grupo\n",
    "\t\t\t\t\n",
    "\t\t\t\tmSock.leaveGroup(dirGrupo);\n",
    "\t\t\t\t\n",
    "\t\t\t\t//cerrar multicast\n",
    "\t\t\t\tmSock.close();\n",
    "\t\t\t}\n",
    "\t\t\t\n",
    "\t\t\t\n",
    "\t\t} catch (IOException e) {\n",
    "\t\t\tSystem.err.println(e);\n",
    "\t\t}\n",
    "\t}\n",
    "\n",
    "}\n"
   ]
  },
  {
   "cell_type": "markdown",
   "metadata": {},
   "source": [
    "### 3.3 Funcionamiento"
   ]
  },
  {
   "cell_type": "markdown",
   "metadata": {},
   "source": [
    "1. **Ejecutar server y luego client**"
   ]
  },
  {
   "cell_type": "markdown",
   "metadata": {},
   "source": [
    "2. **Ingresar el digito \"1\"**"
   ]
  },
  {
   "cell_type": "markdown",
   "metadata": {},
   "source": [
    "3. **Ingresar el mensaje a enviar a todos los clientes**"
   ]
  },
  {
   "cell_type": "markdown",
   "metadata": {},
   "source": [
    "4. **Revisar en los host**"
   ]
  },
  {
   "cell_type": "markdown",
   "metadata": {},
   "source": [
    "<img src=\"./Resources/multi.png\">"
   ]
  },
  {
   "cell_type": "markdown",
   "metadata": {},
   "source": [
    "## 4. Multicast Sniffer"
   ]
  },
  {
   "cell_type": "code",
   "execution_count": null,
   "metadata": {},
   "outputs": [],
   "source": [
    "package Schema;\n",
    "import java.net.DatagramPacket;\n",
    "import java.net.InetAddress;\n",
    "import java.net.MulticastSocket;\n",
    "\n",
    "public class MulticastSniffer {\n",
    "\t\n",
    "\tpublic static final String dirGrupo = \"230.0.0.0\";\n",
    "\tpublic static final int PORT = 8500;\n",
    "\t\n",
    "\tpublic static void main(String[] args) {\n",
    "\t\tInetAddress group = null;\n",
    "\t\tint port = 0;\n",
    "\t\ttry {\n",
    "\t\t\t\n",
    "\t\t} catch (Exception e) {\n",
    "\t\t\tSystem.err.println(e);\n",
    "\t\t}\n",
    "\t\t\n",
    "\t\tMulticastSocket ms = null;\n",
    "\t\ttry {\n",
    "\t\t\tms = new MulticastSocket(PORT);\n",
    "\t\t\tms.joinGroup(group);\n",
    "\t\t\tbyte[] buffer = new byte[8192];\n",
    "\t\t\twhile(true) {\n",
    "\t\t\t\tDatagramPacket dp = new DatagramPacket(buffer, buffer.length);\n",
    "\t\t\t\tms.receive(dp);\n",
    "\t\t\t\tString s = new String(dp.getData(), \"8859_1\");\n",
    "\t\t\t\tSystem.out.println(s);\n",
    "\t\t\t}\n",
    "\t\t} catch (Exception e) {\n",
    "\t\t\tSystem.err.println(e);\n",
    "\t\t}\n",
    "\t\tfinally {\n",
    "\t\t\tif (ms != null) {\n",
    "\t\t\t\ttry {\n",
    "\t\t\t\t\tms.leaveGroup(group);\n",
    "\t\t\t\t\tms.close();\n",
    "\t\t\t\t} catch (Exception e2) {\n",
    "\t\t\t\t\t// TODO: handle exception\n",
    "\t\t\t\t}\n",
    "\t\t\t}\n",
    "\t\t}\n",
    "\t\t\n",
    "\t\t\n",
    "\t}\n",
    "\n",
    "}\n"
   ]
  },
  {
   "cell_type": "markdown",
   "metadata": {},
   "source": [
    "## 4.1 Funcionamiento"
   ]
  }
 ],
 "metadata": {
  "kernelspec": {
   "display_name": "Python 3",
   "language": "python",
   "name": "python3"
  },
  "language_info": {
   "codemirror_mode": {
    "name": "ipython",
    "version": 3
   },
   "file_extension": ".py",
   "mimetype": "text/x-python",
   "name": "python",
   "nbconvert_exporter": "python",
   "pygments_lexer": "ipython3",
   "version": "3.7.3"
  }
 },
 "nbformat": 4,
 "nbformat_minor": 2
}
