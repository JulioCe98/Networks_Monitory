{
 "cells": [
  {
   "cell_type": "markdown",
   "metadata": {},
   "source": [
    "# Semana 1 : Introduccion general y a los retos correspondientes (enlaces de libros, calificaciones, sustentaciones, github,etc) + cliente servidor sencillo en java"
   ]
  },
  {
   "cell_type": "markdown",
   "metadata": {},
   "source": [
    "------------"
   ]
  },
  {
   "cell_type": "markdown",
   "metadata": {},
   "source": [
    "# INTRODUCCION GENERAL "
   ]
  },
  {
   "cell_type": "markdown",
   "metadata": {},
   "source": [
    "------------"
   ]
  },
  {
   "cell_type": "markdown",
   "metadata": {},
   "source": [
    "## 1. Libro de retos (Hacknet + algoritmos)"
   ]
  },
  {
   "cell_type": "markdown",
   "metadata": {},
   "source": [
    "<img src=\"./Resources/hacknet.jpg\">\n"
   ]
  },
  {
   "cell_type": "markdown",
   "metadata": {},
   "source": [
    "El libro de retos es una iniciativa con el fin de incentivar al estudiante a aprender mas sobre temas relacionados con el curso de **redes y comunicaciones**\n",
    "\n",
    "Las reglas de juego son las siguientes :\n",
    "\n",
    "1. El estudiante que complete un reto , ganara una **estrella**\n",
    "2. Cada **3 estrellas**, los estudiantes podran tener acceso a **un bonus en una nota que decidira el docente a cargo**\n",
    "3. Para solicitar **la revision de un reto** (debe hacerse tal cual, de lo contrario se invalida el reto):\n",
    "\n",
    "    3.1 El estudiante debera **enviar un correo con el nombre del reto correspondiente en el ASUNTO**\n",
    "    \n",
    "    3.2 El estudiante **digita la bandera** obtenida en el reto con el fin de evaluar si es correcto o no\n",
    "    \n",
    "    3.3 La **rubrica de retos calificados** estara disponible en mi google drive en la direccion :\n",
    "    \n",
    "    3.4 Los **retos** estaran en mi github en la carpeta \"**RETOS**\"\n",
    "    "
   ]
  },
  {
   "cell_type": "markdown",
   "metadata": {},
   "source": [
    "------------"
   ]
  },
  {
   "cell_type": "markdown",
   "metadata": {},
   "source": [
    "## 2. Kahoot"
   ]
  },
  {
   "cell_type": "markdown",
   "metadata": {},
   "source": [
    "<img src=\"./Resources/kahoot.jpeg\">\n"
   ]
  },
  {
   "cell_type": "markdown",
   "metadata": {},
   "source": [
    "Respecto a las calificaciones en Qahoot, el primer puesto se llevara **2 estrellas**"
   ]
  },
  {
   "cell_type": "markdown",
   "metadata": {},
   "source": [
    "------------"
   ]
  },
  {
   "cell_type": "markdown",
   "metadata": {},
   "source": [
    "## Calificaciones de Actividades Extras"
   ]
  },
  {
   "cell_type": "markdown",
   "metadata": {},
   "source": [
    "Para las actividades que asigne el docente a cargo y que el EXPLICITAMENTE mencione enviar a mi correo, deben tener el siguiente asunto :\n",
    "\n",
    "1. Nombre de la actividad\n",
    "2. Nombre completo de el/los integrantes\n",
    "3. Adjunto (si es necesario)\n",
    "4. Curso (si son varios cursos de la materia)"
   ]
  },
  {
   "cell_type": "markdown",
   "metadata": {},
   "source": [
    "**ANEXO: TODAS LAS ACTIVIDADES TIENEN UNA RUBRICA, ESTA NO ESTARA PUBLICA**"
   ]
  },
  {
   "cell_type": "markdown",
   "metadata": {},
   "source": [
    "------------"
   ]
  },
  {
   "cell_type": "markdown",
   "metadata": {},
   "source": [
    "## 3.  Mi GITHUB"
   ]
  },
  {
   "cell_type": "markdown",
   "metadata": {},
   "source": [
    "<img src=\"./Resources/github.webp\">\n"
   ]
  },
  {
   "cell_type": "markdown",
   "metadata": {},
   "source": [
    "https://github.com/JulioCe98"
   ]
  },
  {
   "cell_type": "markdown",
   "metadata": {},
   "source": [
    "------------"
   ]
  },
  {
   "cell_type": "markdown",
   "metadata": {},
   "source": [
    "## 4. Sustentaciones de practicos"
   ]
  },
  {
   "cell_type": "markdown",
   "metadata": {},
   "source": [
    "Una vez lleguemos a las fechas de sustentaciones, se asignaran las horas de monitoria para hacer la respectiva calificacion de los practicos.\n",
    "\n",
    "**OJO : Si durante esa semana, una persona no va a sustentar, tendra 0 en la calificacion ( Salvo tenga una excusa muy valida)**"
   ]
  },
  {
   "cell_type": "markdown",
   "metadata": {},
   "source": [
    "------------"
   ]
  },
  {
   "cell_type": "markdown",
   "metadata": {},
   "source": [
    "## 5. Enlaces de libros "
   ]
  },
  {
   "cell_type": "markdown",
   "metadata": {},
   "source": [
    "1. https://drive.google.com/file/d/1hQ8xVuS4DJiobvcWbogXB3gnGf1AEtkR/view?usp=sharing\n",
    "2. https://drive.google.com/file/d/1NfCULwMh4FhQHdgMgcVi0Yz6_smc59dn/view?usp=sharing"
   ]
  },
  {
   "cell_type": "markdown",
   "metadata": {},
   "source": [
    "------------"
   ]
  },
  {
   "cell_type": "markdown",
   "metadata": {},
   "source": [
    "# Cliente Servidor sencillo en java"
   ]
  },
  {
   "cell_type": "markdown",
   "metadata": {},
   "source": [
    "## Cliente"
   ]
  },
  {
   "cell_type": "code",
   "execution_count": null,
   "metadata": {},
   "outputs": [],
   "source": [
    "import java.io.BufferedReader;\n",
    "import java.io.BufferedWriter;\n",
    "import java.io.DataInputStream;\n",
    "import java.io.DataOutputStream;\n",
    "import java.io.InputStreamReader;\n",
    "import java.io.OutputStreamWriter;\n",
    "import java.net.Socket;\n",
    "\n",
    "public class Cliente {\n",
    "\t\n",
    "\t/*\n",
    "\t * \n",
    "\t * Direccion local de la maquina\n",
    "\t */\n",
    "\tpublic static final String LOCAL_HOST = \"localhost\";\n",
    "\t/**\n",
    "\t * Puerto por donde se establecera la conexion\n",
    "\t */\n",
    "\tpublic static final int PORT = 8000;\n",
    "\t/**\n",
    "\t * Socket que permitira la conexion con el servidor\n",
    "\t */\n",
    "\tprivate static Socket socket;\n",
    "\t\n",
    "\t/**\n",
    "\t * Main\n",
    "\t * @param args\n",
    "\t */\n",
    "\tpublic static void main(String[] args) {\n",
    "\t\t\n",
    "\t\tDataInputStream in;\n",
    "\t\tDataOutputStream out;\n",
    "\n",
    "\t\ttry {\n",
    "\t\t\t\n",
    "\t\t\tBufferedReader br = new BufferedReader(new InputStreamReader( System.in));\n",
    "\t\t\tBufferedWriter bw = new BufferedWriter(new OutputStreamWriter(System.out));\n",
    "\t\t\t\n",
    "\t\t\tSystem.out.println(\"::Cliente disponible para ser atendido:: \\nIngrese los dos numeros\"\n",
    "\t\t\t\t\t+ \" en formato int;int\");\n",
    "\t\t\t\n",
    "\t\t\tsocket = new Socket(LOCAL_HOST, PORT);\n",
    "\t\t\tString mensaje = br.readLine();\n",
    "\t\t\tin = new DataInputStream(socket.getInputStream());\n",
    "\t\t\tout = new DataOutputStream(socket.getOutputStream());\n",
    "\t\t\tout.writeUTF(mensaje);\n",
    "\t\t\tString mensajeDelServidor = in.readUTF();\n",
    "\t\t\tbw.write(\"La suma es : \" + mensajeDelServidor);\n",
    "\t\t\tbw.flush();\n",
    "\t\t\tbw.close();\n",
    "\t\t\tbr.close();\n",
    "\t\t\tsocket.close();\n",
    "\t\t\tin.close();\n",
    "\t\t\tout.close();\n",
    "\n",
    "\t\t} catch (Exception e) {\n",
    "\t\t\t// TODO: handle exception\n",
    "\t\t}\n",
    "\t\t\n",
    "\t\t\n",
    "\t}\n",
    "\t\n",
    "\n",
    "}\n"
   ]
  },
  {
   "cell_type": "markdown",
   "metadata": {},
   "source": [
    "## Server"
   ]
  },
  {
   "cell_type": "code",
   "execution_count": null,
   "metadata": {},
   "outputs": [],
   "source": [
    "package Jerarquia_Cliente_Server;\n",
    "\n",
    "import java.io.DataInputStream;\n",
    "import java.io.DataOutputStream;\n",
    "import java.io.IOException;\n",
    "import java.net.ServerSocket;\n",
    "import java.net.Socket;\n",
    "\n",
    "public class Server {\n",
    "\t\n",
    "\t\n",
    "\t/**\n",
    "\t * Puerto por donde el servidor atendera a los clientes\n",
    "\t */\n",
    "\tpublic static final int PORT = 8000;\n",
    "\t/**\n",
    "\t * El servidor dispone de un serversocket, para permitir la conexion a los clientes\n",
    "\t */\n",
    "\tprivate static  ServerSocket serverSocket;\n",
    "\t/**\n",
    "\t * El servidor dispone de un socket para atender a cada cliente por individual\n",
    "\t */\n",
    "\tprivate static Socket socket;\n",
    "\t\n",
    "\n",
    "\t\n",
    "\t\n",
    "\tpublic static void main(String[] args) {\n",
    "\t\t\n",
    "\t\tDataInputStream in;\n",
    "\t\tDataOutputStream out;\n",
    "\t\t\n",
    "\t\ttry {\n",
    "\t\t\tserverSocket = new ServerSocket(PORT);\n",
    "\t\t\tSystem.out.println(\"::Servidor escuchando a los posibles clientes::\");\n",
    "\t\t\t\n",
    "\t\t\twhile(true) {\n",
    "\t\t\t\t\n",
    "\t\t\t\tsocket = serverSocket.accept();\n",
    "\t\t\t\tSystem.out.println(\"El cliente se ha conectado!\");\n",
    "\t\t\t\tin = new DataInputStream(socket.getInputStream());\n",
    "\t\t\t\tout = new DataOutputStream(socket.getOutputStream());\n",
    "\t\t\t\tString mensajeObtenidoCliente = in.readUTF();\n",
    "\t\t\t\tSystem.out.println(\"El mensaje enviado por el cliente fue : \" + mensajeObtenidoCliente);\n",
    "\t\t\t\tString respuestaServer = metodoServicioServer(mensajeObtenidoCliente);\n",
    "\t\t\t\tout.writeUTF(respuestaServer);\n",
    "\t\t\t\tsocket.close();\n",
    "\t\t\t\tSystem.out.println(\"::El cliente fue desconectado del server::\");\n",
    "\t\t\t\n",
    "\t\t\t}\n",
    "\t\t\t\n",
    "\t\t\t\n",
    "\t\t\t\n",
    "\t\t\t\n",
    "\t\t\t\n",
    "\t\t\t\n",
    "\t\t\t\n",
    "\t\t} catch (IOException e) {\n",
    "\t\t\t// TODO Auto-generated catch block\n",
    "\t\t\te.printStackTrace();\n",
    "\t\t}\n",
    "\t\t\n",
    "\t\t\n",
    "\t\t\n",
    "\t\t\n",
    "\t}\n",
    "\n",
    "\n",
    "\n",
    "\n",
    "\tprivate static String metodoServicioServer(String mensajeObtenidoCliente) {\n",
    "\t\t\n",
    "\t\tString[] cadena = mensajeObtenidoCliente.split(\";\");\n",
    "\t\t\n",
    "\t\treturn Integer.parseInt(cadena[0]) + Integer.parseInt(cadena[1]) + \"\";\n",
    "\t}\n",
    "\t\n",
    "\t\n",
    "\n",
    "}\n"
   ]
  },
  {
   "cell_type": "markdown",
   "metadata": {},
   "source": [
    "link :  https://github.com/JulioCe98/Networks_Monitory/tree/master/Guias/Semana%201/Java"
   ]
  }
 ],
 "metadata": {
  "kernelspec": {
   "display_name": "Python 3",
   "language": "python",
   "name": "python3"
  },
  "language_info": {
   "codemirror_mode": {
    "name": "ipython",
    "version": 3
   },
   "file_extension": ".py",
   "mimetype": "text/x-python",
   "name": "python",
   "nbconvert_exporter": "python",
   "pygments_lexer": "ipython3",
   "version": "3.7.4"
  }
 },
 "nbformat": 4,
 "nbformat_minor": 2
}
