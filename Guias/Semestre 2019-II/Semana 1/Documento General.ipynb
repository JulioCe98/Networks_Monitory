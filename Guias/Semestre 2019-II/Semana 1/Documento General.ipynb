{
 "cells": [
  {
   "cell_type": "markdown",
   "metadata": {},
   "source": [
    "                 \n",
    "# **Introduccion**"
   ]
  },
  {
   "cell_type": "markdown",
   "metadata": {},
   "source": [
    "### Monitor : Julio Cesar Gaviria Jaramillo"
   ]
  },
  {
   "cell_type": "markdown",
   "metadata": {},
   "source": [
    "1. Ingeniero de sistemas / **8 semestre**"
   ]
  },
  {
   "cell_type": "markdown",
   "metadata": {},
   "source": [
    "2. Investigador en el laboratorio de i2T (Actualmente realizando una investigacion sobre **Botnets**)"
   ]
  },
  {
   "cell_type": "markdown",
   "metadata": {},
   "source": [
    "<img src=\"./Resources/botnet.png\">\n"
   ]
  },
  {
   "cell_type": "markdown",
   "metadata": {},
   "source": [
    "3. Monitor del **curso de redes y comunicaciones** (desde el 2018-2)"
   ]
  },
  {
   "cell_type": "markdown",
   "metadata": {},
   "source": [
    "## ¿Que Haremos con las monitorias del curso?"
   ]
  },
  {
   "cell_type": "markdown",
   "metadata": {},
   "source": [
    "Segun lo establecido con el docente a cargo, nuestras secciones se realizaran los dias viernes, de 12-1 pm. \n",
    "\n",
    "En esta franja de tiempo podremos realizar 2 tipos de actividades. \n",
    "\n",
    "1. Explicacion de algoritmos \n",
    "\n",
    "2. Desarollo de fundamentos de cyberseguridad , basandonos en el juego **hacknet**"
   ]
  },
  {
   "cell_type": "markdown",
   "metadata": {},
   "source": [
    "<img src=\"./Resources/hacknet.jpg\">\n"
   ]
  },
  {
   "cell_type": "markdown",
   "metadata": {},
   "source": [
    "### Link de descarga Mac"
   ]
  },
  {
   "cell_type": "markdown",
   "metadata": {},
   "source": [
    "link : https://thepiratebaytorrents.com/h/hacknet-labyrinths-macosx-free-download.html"
   ]
  },
  {
   "cell_type": "markdown",
   "metadata": {},
   "source": [
    "---"
   ]
  },
  {
   "cell_type": "markdown",
   "metadata": {},
   "source": [
    "## Cronograma del curso"
   ]
  },
  {
   "cell_type": "markdown",
   "metadata": {},
   "source": [
    "**Semana 1** : Introduccion general y a los retos correspondientes (enlaces de libros, calificaciones, sustentaciones,github,etc) + cliente servidor sencillo en java\n",
    "\n",
    "**Semana 2** : Identificacion de elementos en una  captura de wireshark + saber la direccion ip por medio de la consola + cliente servidor usando encriptacion cesar + reto\n",
    "\n",
    "\n",
    "**Semana 3** : Clase practica : Introduccion a buffers + Kahoot + hacknet\n",
    "\n",
    "**Semana 4** : Soporte en el proyecto de investigacion + introduccion a hilos en java + ejemplo + hacknet\n",
    "\n",
    "**Semana 5** : Syncronizacion de hilos en java + ejemplo\n",
    "\n",
    "**Semana 6** : Clase practica : Introduccion a SSL  + hacknet + Kahoot\n",
    "\n",
    "**Semana 7** : Cliente servidor usando TCP (Repository)\n",
    "\n",
    "**Semana 8** : Clase practica : Hacknet + Kahoot\n",
    "\n",
    "**Semana 9** : Introduccion a Udp + Kahoot + Chat utilizando UDP\n",
    "\n",
    "**Semana 10** : Ejemplos TCP + UDP\n",
    "\n",
    "**Semana 11** : Introduccion a HTML y CSS\n",
    "\n",
    "**Semana 12** : Clase practica : Kahoot + Hacknet\n",
    "\n"
   ]
  }
 ],
 "metadata": {
  "kernelspec": {
   "display_name": "Python 3",
   "language": "python",
   "name": "python3"
  },
  "language_info": {
   "codemirror_mode": {
    "name": "ipython",
    "version": 3
   },
   "file_extension": ".py",
   "mimetype": "text/x-python",
   "name": "python",
   "nbconvert_exporter": "python",
   "pygments_lexer": "ipython3",
   "version": "3.6.5"
  }
 },
 "nbformat": 4,
 "nbformat_minor": 2
}
