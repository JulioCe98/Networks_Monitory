{
 "cells": [
  {
   "cell_type": "markdown",
   "metadata": {},
   "source": [
    "#  Syncronizacion de hilos en java + ejemplo"
   ]
  },
  {
   "cell_type": "markdown",
   "metadata": {},
   "source": [
    "---"
   ]
  },
  {
   "cell_type": "markdown",
   "metadata": {},
   "source": [
    "## 1 Introduccion"
   ]
  },
  {
   "cell_type": "markdown",
   "metadata": {},
   "source": [
    "La clave para la sincronización en Java es el concepto de **monitor**, que controla el acceso a un objeto. Un monitor funciona implementando el concepto de **bloqueo** (lock). Cuando un objeto está bloqueado por un hilo, ningún otro hilo puede obtener acceso al objeto. Cuando el hilo sale, el objeto está desbloqueado y está disponible para ser utilizado por otro hilo.\n",
    "\n",
    "**Todos los objetos en Java tienen un monitor**. Esta característica está integrada en el lenguaje Java en sí. Por lo tanto, todos los objetos se pueden sincronizar. La **sincronización** está respaldada por la palabra clave **synchronized** y algunos métodos bien definidos que tienen todos los objetos. Como la sincronización se diseñó en Java desde el principio, es mucho más fácil de usar de lo que se podría esperar. De hecho, para muchos programas, la sincronización de objetos es casi transparente."
   ]
  },
  {
   "cell_type": "markdown",
   "metadata": {},
   "source": [
    "<img src=\"./Resources/sync.jpg\">\n"
   ]
  },
  {
   "cell_type": "markdown",
   "metadata": {},
   "source": [
    "---"
   ]
  },
  {
   "cell_type": "markdown",
   "metadata": {},
   "source": [
    "## 2 Ejemplo Sync Reto 2"
   ]
  },
  {
   "cell_type": "code",
   "execution_count": null,
   "metadata": {},
   "outputs": [],
   "source": [
    "package Schema;\n",
    "\n",
    "import java.util.ArrayList;\n",
    "\n",
    "public class Hilos {\n",
    "\t\n",
    "\tprivate volatile static int global = 0;\n",
    "\t\n",
    "\tprivate static ArrayList<Thread> threads = new ArrayList<Thread>();\n",
    "\t\n",
    "\t\n",
    "\t\n",
    "\tpublic static void init() {\n",
    "\t\t\n",
    "\t\tfor (int i = 0; i < 4; i++) {\n",
    "\t\t\t\n",
    "\t\t\tThread thread = new Thread(new Runnable() {\t\t\n",
    "\t\t\t\t@Override\n",
    "\t\t\t\tpublic void run() {\n",
    "\t\t\t\t\tdoing();\n",
    "\t\t\t\t}\n",
    "\n",
    "\t\t\t});\n",
    "\t\t\tthreads.add(thread);\t\n",
    "\t\t}\t\n",
    "\t\trunThreads();\t\n",
    "\t}\n",
    "\n",
    "\n",
    "\tprivate static void runThreads() {\n",
    "\t\t\n",
    "\t\tfor (int i = 0; i < threads.size(); i++) {\n",
    "\t\t\tthreads.get(i).start();\n",
    "\t\t\ttry {\n",
    "\t\t\t\tthreads.get(i).sleep(0);\n",
    "\t\t\t} catch (InterruptedException e) {\n",
    "\t\t\t\t// TODO Auto-generated catch block\n",
    "\t\t\t\te.printStackTrace();\n",
    "\t\t\t}\n",
    "\t\t}\n",
    "\t\t\n",
    "\t}\n",
    "\t\n",
    "\tpublic static void main(String[] args) {\n",
    "\t\t\n",
    "\t\tinit();\n",
    "\t\t\n",
    "\t\t\n",
    "\t}\n",
    "\t\n",
    "\tprivate  static void incrementarGlobal() {\n",
    "\t\tglobal++;\n",
    "\t}\n",
    "\t\n",
    "\tpublic synchronized static void doing() {\n",
    "\t\tSystem.out.println(\"Init Thread number : \" + global);\n",
    "\t\tswitch (global) {\n",
    "\t\tcase 0:\n",
    "\t\t\tfor (int j = 0; j < 10; j++) {\n",
    "\t\t\t\tSystem.out.println(\"Thread Number :\" + global + \" say : \" + j);\n",
    "\t\t\t}\n",
    "\t\t\tbreak;\n",
    "\t\tcase 1:\n",
    "\t\t\tfor (int j = 0; j < 10; j++) {\n",
    "\t\t\t\tif(j%2==0) {\n",
    "\t\t\t\t\tSystem.out.println(\"Thread Number :\" + global + \" say : \" + j);\n",
    "\t\t\t\t}\n",
    "\t\t\t}\n",
    "\t\t\tbreak;\n",
    "\t\tcase 2:\n",
    "\t\t\tfor (int j = 0; j < 10; j++) {\n",
    "\t\t\t\tif(j%2!=0) {\n",
    "\t\t\t\t\tSystem.out.println(\"Thread Number :\" + global + \" say : \" + j);\n",
    "\n",
    "\t\t\t\t}\n",
    "\t\t\t}\n",
    "\t\t\tbreak;\n",
    "\t\tcase 3:\n",
    "\t\t\tfor (int j = 0; j < 10; j++) {\n",
    "\t\t\t\tSystem.out.println(\"Thread Number :\" + global + \" say : \" + j*3);\n",
    "\t\t\t\t\n",
    "\t\t\t}\n",
    "\t\t\tbreak;\n",
    "\n",
    "\t\tdefault:\n",
    "\t\t\tbreak;\n",
    "\t\t}\n",
    "\t\tincrementarGlobal();\n",
    "\t}\n",
    "\n",
    "}\n"
   ]
  }
 ],
 "metadata": {
  "kernelspec": {
   "display_name": "Python 3",
   "language": "python",
   "name": "python3"
  },
  "language_info": {
   "codemirror_mode": {
    "name": "ipython",
    "version": 3
   },
   "file_extension": ".py",
   "mimetype": "text/x-python",
   "name": "python",
   "nbconvert_exporter": "python",
   "pygments_lexer": "ipython3",
   "version": "3.7.1"
  }
 },
 "nbformat": 4,
 "nbformat_minor": 2
}
