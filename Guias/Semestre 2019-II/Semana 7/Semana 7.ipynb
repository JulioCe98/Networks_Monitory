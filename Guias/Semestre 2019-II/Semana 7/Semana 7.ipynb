{
 "cells": [
  {
   "cell_type": "markdown",
   "metadata": {},
   "source": [
    "# Cliente servidor usando TCP (Repository) "
   ]
  },
  {
   "cell_type": "markdown",
   "metadata": {},
   "source": [
    "---"
   ]
  },
  {
   "cell_type": "markdown",
   "metadata": {},
   "source": [
    "# 1. Introduccion a TCP"
   ]
  },
  {
   "cell_type": "markdown",
   "metadata": {},
   "source": [
    "TCP se diseño especificamente para proporcionar un flujo de bytes confiable de extremo a extremo a través de una interred no confiable. Una interred difiere de una sola red debido a que sus diversas partes podrían tener diferentes tipologías, anchos de banda, retardos, tamaños de paquetes y otros parámetros\n",
    "\n",
    "Cada maquina que soporta TCP tiene una entidad de transporte TCP, ya sea un procedimiento de biblioteca, un proceso de usuario o sea parte del kernel.\n",
    "\n",
    "La capa IP no ofrece ninguna garantía de que los datagramas se entregaran de manera apropiada, ni tampoco una indicación sobre que tan rápido se pueden enviar los datagramas. Corresponde a TCP enviar los data gramas con la suficiente rapidez como para hacer uso de la capacidad sin provocar una congestión ( también debe terminar los temporizadores y retransmitir los data gramas que no se entreguen)\n",
    "\n",
    "También corresponde a TCP re ensamblar los mensajes en mensajes con la secuencia apropiada."
   ]
  },
  {
   "cell_type": "markdown",
   "metadata": {},
   "source": [
    "<img src=\"./Resources/conex.jpg\">"
   ]
  },
  {
   "cell_type": "markdown",
   "metadata": {},
   "source": [
    "# 2. Ejemplo Cliente /Servidor (TCP Repository)"
   ]
  },
  {
   "cell_type": "markdown",
   "metadata": {},
   "source": [
    "## 2.1 Server"
   ]
  },
  {
   "cell_type": "code",
   "execution_count": null,
   "metadata": {},
   "outputs": [],
   "source": [
    "package Server;\n",
    "\n",
    "import java.io.BufferedInputStream;\n",
    "import java.io.BufferedOutputStream;\n",
    "import java.io.DataInputStream;\n",
    "import java.io.DataOutputStream;\n",
    "import java.io.File;\n",
    "import java.io.FileInputStream;\n",
    "import java.net.ServerSocket;\n",
    "import java.net.Socket;\n",
    "\n",
    "public class Server {\n",
    "\t\n",
    "\n",
    "\t/**\n",
    "\t * Puerto por donde el servidor atendera a los clientes\n",
    "\t */\n",
    "\tpublic static final int PORT = 8500;\n",
    "\t/**\n",
    "\t * El servidor dispone de un serversocket, para permitir la conexion a los clientes\n",
    "\t */\n",
    "\tprivate ServerSocket serverSocket;\n",
    "\t/**\n",
    "\t * El servidor dispone de un socket para atender a cada cliente por individual\n",
    "\t */\n",
    "\tprivate Socket socket;\n",
    "\t\n",
    "\tprivate boolean isConected;\n",
    "\t\n",
    "\t\n",
    "\tpublic Server() {\n",
    "\t\ttry {\n",
    "\t\t\tserverSocket = new ServerSocket(PORT);\n",
    "\t\t\tisConected = true;\n",
    "\t\t} catch (Exception e) {\n",
    "\t\t\t// TODO: handle exception\n",
    "\t\t}\t\n",
    "\t}\n",
    "\n",
    "\n",
    "\tpublic  ServerSocket getServerSocket() {\n",
    "\t\treturn serverSocket;\n",
    "\t}\n",
    "\n",
    "\n",
    "\tpublic  void setServerSocket(ServerSocket serverSocket) {\n",
    "\t\tthis.serverSocket = serverSocket;\n",
    "\t}\n",
    "\n",
    "\n",
    "\tpublic  Socket getSocket() {\n",
    "\t\treturn socket;\n",
    "\t}\n",
    "\n",
    "\n",
    "\tpublic  void setSocket(Socket socket) {\n",
    "\t\tthis.socket = socket;\n",
    "\t}\n",
    "\t\n",
    "\tpublic boolean isConected() {\n",
    "\t\treturn isConected;\n",
    "\t}\n",
    "\n",
    "\n",
    "\tpublic void setConected(boolean isConected) {\n",
    "\t\tthis.isConected = isConected;\n",
    "\t}\n",
    "\n",
    "\n",
    "\tpublic static void main(String[] args) {\n",
    "\t\t\n",
    "\t\ttry {\n",
    "\t\t\tSystem.out.println(\"::BIENVENIDO AL SERVER - REPOSITORY- ICESI::\");\n",
    "\t\t\tServer server = new Server();\n",
    "\t\t\twhile(server.isConected) {\n",
    "\t\t\t\tServerSocket serverSocket = server.getServerSocket();\n",
    "\t\t\t\tSocket socket = serverSocket.accept();\n",
    "\t\t\t\tserver.setSocket(socket);\n",
    "\t\t\t\tDataInputStream input;\n",
    "\t\t\t\tBufferedInputStream bis;\n",
    "\t\t\t\tBufferedOutputStream bos;\n",
    "\t\t\t\tinput = new DataInputStream(socket.getInputStream());\n",
    "\t\t\t\tint in;\n",
    "\t\t\t\tbyte[] byteArray;\n",
    "\t\t\t\tString filename = input.readUTF();\n",
    "\t\t\t    File localFile = new File( filename );\n",
    "\t\t\t\tbis = new BufferedInputStream(new FileInputStream(localFile));\n",
    "\t\t\t\tbos = new BufferedOutputStream(socket.getOutputStream());\n",
    "\t\t\t\tDataOutputStream dos=new DataOutputStream(socket.getOutputStream());\n",
    "\t\t\t\tdos.writeUTF(\"Client_Repository/\"+localFile.getName());\n",
    "\t\t\t\tbyteArray = new byte[8192];\n",
    "\t\t\t\twhile ((in = bis.read(byteArray)) != -1){\n",
    "\t\t\t\t\tbos.write(byteArray,0,in);\n",
    "\t\t\t\t }\n",
    "\t\t\t\t \n",
    "\t\t\t\tbis.close();\n",
    "\t\t\t\tbos.close();\n",
    "\t\t\t\tsocket.close();\n",
    "\t\t\t\tinput.close();\n",
    "\t\t\t\tdos.close();\n",
    "\t\t\t}\n",
    "\t\t\t\n",
    "\t\t\t\n",
    "\t\t\t\n",
    "\t\t\t\n",
    "\t\t\t\n",
    "\t\t} catch (Exception e) {\n",
    "\t\t\te.printStackTrace();\n",
    "\t\t}\n",
    "\t\t}\n",
    "\t}\n",
    "\n",
    "\t\t\n",
    "\t\n",
    "\t\t\n",
    "\t\t\n",
    "\t\n",
    "\t\n",
    "\t\n",
    "\t\n",
    "\t\n",
    "\n",
    "\n"
   ]
  },
  {
   "cell_type": "markdown",
   "metadata": {},
   "source": [
    "## 2.2 Cliente"
   ]
  },
  {
   "cell_type": "code",
   "execution_count": null,
   "metadata": {},
   "outputs": [],
   "source": [
    "package Client;\n",
    "\n",
    "import java.io.BufferedInputStream;\n",
    "import java.io.BufferedOutputStream;\n",
    "import java.io.DataInputStream;\n",
    "import java.io.DataOutputStream;\n",
    "import java.io.FileOutputStream;\n",
    "import java.net.Socket;\n",
    "import java.util.Scanner;\n",
    "\n",
    "public class Client {\n",
    "\t\n",
    "\tpublic static final String LOCAL_HOST = \"localhost\";\n",
    "\t\n",
    "\tpublic static final int PORT = 8500;\n",
    "\t\n",
    "\tprivate  Socket socket;\n",
    "\t\n",
    "\tpublic Client() {\n",
    "\t\t\n",
    "\t\ttry {\n",
    "\t\tsocket = new Socket(LOCAL_HOST, PORT);\n",
    "\t\t\t\n",
    "\t\t} catch (Exception e) {\n",
    "\t\t\te.printStackTrace();\n",
    "\t\t}\n",
    "\t\n",
    "\t}\n",
    "\t\n",
    "\t\n",
    "\t\n",
    "\n",
    "\n",
    "\tpublic  Socket getSocket() {\n",
    "\t\treturn socket;\n",
    "\t}\n",
    "\n",
    "\n",
    "\n",
    "\n",
    "\n",
    "\tpublic  void setSocket(Socket socket) {\n",
    "\t\tthis.socket = socket;\n",
    "\t}\n",
    "\n",
    "\n",
    "\n",
    "\n",
    "\n",
    "\tpublic static void main(String[] args) {\n",
    "\t\t\n",
    "\t\ttry {\n",
    "\t\t\t\n",
    "\t\t\tDataOutputStream out;\n",
    "\t\t\t\n",
    "\t\t\tBufferedInputStream bis;\n",
    "\t\t\t\n",
    "\t\t\tBufferedOutputStream bos;\n",
    "\t\t\t\n",
    "\t\t\tClient cliente = new  Client();\n",
    "\t\t\t\n",
    "\t\t\tSocket socket = cliente.getSocket();\n",
    "\t\t\t\n",
    "\t\t\tScanner scan = new Scanner(System.in);\n",
    "\t\t\t\n",
    "\t\t\tSystem.out.println(\"::Bienvenido::\\nIngrese el nombre del fichero que desea descargar\");\n",
    "\t\t\tSystem.out.println(\"Ayuda : Server_Repositor/Archivo.txt\");\n",
    "\t\t\t\n",
    "\t\t\tString name = scan.nextLine();\n",
    "\t\t\t\n",
    "\t\t\tout = new DataOutputStream(socket.getOutputStream());\n",
    "\t\t\t\n",
    "\t\t\tout.writeUTF(name);\n",
    "\t\t\t\n",
    "\t\t\tbyte[] receivedData;\n",
    "\t\t\t\n",
    "\t\t\tint in;\n",
    "\t\t\t\n",
    "\t\t\tString file;\n",
    "\t\t\t\n",
    "\t\t\treceivedData = new byte[1024];\n",
    "\t\t\t\n",
    "\t\t\tbis = new BufferedInputStream(socket.getInputStream());\n",
    "\t\t\t\n",
    "\t\t\tDataInputStream dis=new DataInputStream(socket.getInputStream());\n",
    "\t\t\t\n",
    "\t\t\tfile = dis.readUTF();\n",
    "\t\t\t\n",
    "\t\t\tfile = file.substring(file.indexOf('\\\\')+1,file.length());\n",
    "\t\t\t\n",
    "\t\t\tbos = new BufferedOutputStream(new FileOutputStream(file));\n",
    "\t\t\t\n",
    "\t\t\twhile ((in = bis.read(receivedData)) != -1){\n",
    "\t\t\t\t\n",
    "\t\t\t\tbos.write(receivedData,0,in);\n",
    "\t\t\t }\n",
    "\t\t\t\n",
    "\t\t\tbos.close();\n",
    "\t\t\tdis.close();\n",
    "\t\t\tsocket.close();\n",
    "\t\t\tscan.close();\n",
    "\t\t\tout.close();\n",
    "\t\t\tbis.close();\n",
    "\t\t\t\n",
    "\t\t} catch (Exception e) {\n",
    "\t\t\te.printStackTrace();\n",
    "\t\t}\n",
    "\t\t\n",
    "\t\t\n",
    "\t\t\n",
    "\t\t \n",
    "\t\t\n",
    "\t\t\n",
    "\t\t\n",
    "\t\t\n",
    "\t\t\n",
    "\t}\n",
    "\n",
    "}\n"
   ]
  },
  {
   "cell_type": "markdown",
   "metadata": {},
   "source": [
    "Link: https://github.com/JulioCe98/Networks_Monitory/tree/master/Guias/Semana%207/Java"
   ]
  },
  {
   "cell_type": "markdown",
   "metadata": {},
   "source": [
    "## 2.3 Funcionamiento"
   ]
  },
  {
   "cell_type": "markdown",
   "metadata": {},
   "source": [
    "1. **Ejecutar el servidor**"
   ]
  },
  {
   "cell_type": "markdown",
   "metadata": {},
   "source": [
    "<img src=\"./Resources/t1.png\">"
   ]
  },
  {
   "cell_type": "markdown",
   "metadata": {},
   "source": [
    "2. **Ejecutar el cliente**"
   ]
  },
  {
   "cell_type": "markdown",
   "metadata": {},
   "source": [
    "<img src=\"./Resources/t2.png\">"
   ]
  },
  {
   "cell_type": "markdown",
   "metadata": {},
   "source": [
    "3. **Colocar la direccion donde se encuentra el archivo del repositorio y dar enter**"
   ]
  },
  {
   "cell_type": "markdown",
   "metadata": {},
   "source": [
    "<img src=\"./Resources/t3.png\">"
   ]
  },
  {
   "cell_type": "markdown",
   "metadata": {},
   "source": [
    "4. **Antes no teniamos un archivo en el client_Repository**"
   ]
  },
  {
   "cell_type": "markdown",
   "metadata": {},
   "source": [
    "<img src=\"./Resources/t4.png\">"
   ]
  },
  {
   "cell_type": "markdown",
   "metadata": {},
   "source": [
    "5. **Damos en refrescar**"
   ]
  },
  {
   "cell_type": "markdown",
   "metadata": {},
   "source": [
    "<img src=\"./Resources/t5.png\">"
   ]
  },
  {
   "cell_type": "markdown",
   "metadata": {},
   "source": [
    "<img src=\"./Resources/t6.png\">"
   ]
  },
  {
   "cell_type": "markdown",
   "metadata": {},
   "source": [
    "---"
   ]
  },
  {
   "cell_type": "markdown",
   "metadata": {},
   "source": [
    "# 3 Reto 3"
   ]
  },
  {
   "cell_type": "markdown",
   "metadata": {},
   "source": [
    "Link :  https://github.com/JulioCe98/Networks_Monitory/blob/master/Retos/Libro%20de%20Retos.ipynb"
   ]
  },
  {
   "cell_type": "markdown",
   "metadata": {},
   "source": [
    "---"
   ]
  },
  {
   "cell_type": "markdown",
   "metadata": {},
   "source": [
    "# 4 Introduccion a InetAddress"
   ]
  },
  {
   "cell_type": "markdown",
   "metadata": {},
   "source": [
    "## 4.1  Ejemplo 1"
   ]
  },
  {
   "cell_type": "code",
   "execution_count": null,
   "metadata": {},
   "outputs": [],
   "source": [
    "package Schema;\n",
    "\n",
    "import java.net.Inet4Address;\n",
    "import java.net.InetAddress;\n",
    "import java.net.UnknownHostException;\n",
    "\n",
    "public class Ejemplo_InetAddress {\n",
    "\t\n",
    "\t\n",
    "\tpublic static void main(String[] args) {\n",
    "\t\t\n",
    "\t\ttry {\n",
    "\t\t\tSystem.out.println(\"::Devuelve la dir IP del nombre de la maquina escrito como param::\");\n",
    "\t\t\tSystem.out.println(Inet4Address.getByName(\"localhost\"));\n",
    "\t\t\tSystem.out.println(\"---------------------------\");\n",
    "\t\t\tSystem.out.println(\"::Devuelve la dir IP asociada a este HOST::\");\n",
    "\t\t\tSystem.out.println(Inet4Address.getLocalHost());\n",
    "\t\t\tSystem.out.println(\"---------------------------\");\n",
    "\t\t\tSystem.out.println(\"::Devuelve las dir IP asociada a este HOST::\");\n",
    "\t\t\tInetAddress[] temp = Inet4Address.getAllByName(\"localhost\");\n",
    "\t\t\tfor (int i = 0; i < temp.length; i++) {\n",
    "\t\t\t\t\n",
    "\t\t\t\tSystem.out.println(Inet4Address.getByName(temp[i].getHostAddress()));\n",
    "\t\t\t\t\n",
    "\t\t\t}\t\t\n",
    "\t\t\t\n",
    "\t\t\tSystem.out.println(\"---------------------------\");\n",
    "\n",
    "\t\t\tSystem.out.println(\"---------------------------\");\n",
    "\n",
    "\t\t\tSystem.out.println(\"---------------------------\");\n",
    "\t\t\tSystem.out.println(\"::Host::\");\n",
    "\t\t\t//www.yahoo.es , www.google.es\n",
    "\t\t\tSystem.out.println(InetAddress.getByName(\"www.yahoo.es\"));\n",
    "\t\t\tSystem.out.println(\"::IP::\");\n",
    "\t\t\tSystem.out.println(InetAddress.getByName(\"www.yahoo.es\").getHostAddress());\n",
    "\t\t\tSystem.out.println(\"::NOMBRE::\");\n",
    "\t\t\tSystem.out.println(InetAddress.getByName(\"www.yahoo.es\").getHostName());\n",
    "\t\t\tSystem.out.println(\"---------------------------\");\n",
    "\n",
    "\t\t\tSystem.out.println(\"---------------------------\");\n",
    "\n",
    "\t\t\tSystem.out.println(\"---------------------------\");\n",
    "\t\t\t\n",
    "\t\t\t\n",
    "\t\t} catch (UnknownHostException e) {\n",
    "\t\t\t// TODO Auto-generated catch block\n",
    "\t\t\te.printStackTrace();\n",
    "\t\t}\n",
    "\t\t\n",
    "\t\t\n",
    "\t\t\n",
    "\t\t\n",
    "\t\t\n",
    "\t\t\n",
    "\t\t\n",
    "\t\t\n",
    "\t\t\n",
    "\t\t\n",
    "\t}\n",
    "\t\n",
    "\t\n",
    "\t\n",
    "\t\n",
    "\n",
    "}\n"
   ]
  },
  {
   "cell_type": "markdown",
   "metadata": {},
   "source": [
    "Link : https://github.com/JulioCe98/Networks_Monitory/tree/master/Guias/Semana%207/Java"
   ]
  },
  {
   "cell_type": "markdown",
   "metadata": {},
   "source": [
    "### 4.1.1 Funcionamiento"
   ]
  },
  {
   "cell_type": "markdown",
   "metadata": {},
   "source": [
    "<img src=\"./Resources/eje1.png\">"
   ]
  },
  {
   "cell_type": "markdown",
   "metadata": {},
   "source": [
    "## 4.2 SpamCheck"
   ]
  },
  {
   "cell_type": "code",
   "execution_count": null,
   "metadata": {},
   "outputs": [],
   "source": [
    "package Schema;\n",
    "\n",
    "import java.net.InetAddress;\n",
    "import java.net.UnknownHostException;\n",
    "\n",
    "public class SpamCheck {\n",
    "\t\n",
    "\tpublic static final String BLACKHOLE = \"sbl.spamhaus.org\";\n",
    "\t\n",
    "\t\n",
    "\t\n",
    "\tpublic static void main(String[] args) {\n",
    "\t\tif (args.length ==0){\n",
    "\t\t\targs = new String[]{\"207.34.56.23\",\"125.12.32.4\",\"130.130.130.130\",\"130.0.0.0\",\"207.35.64.80\"};\n",
    "\t\t}\n",
    "\t\t\n",
    "\t\tfor (String arg : args) {\n",
    "\t\t\tif(isSpammer(arg)) { \n",
    "\t\t\t\tSystem.out.println(arg + \" is a known spammer\");\n",
    "\t\t\t}\n",
    "\t\t\telse {\n",
    "\t\t\t\tSystem.out.println(arg + \" appears legitimate\");\n",
    "\t\t\t}\n",
    "\t\t}\n",
    "\n",
    "\t}\n",
    "\t\n",
    "\tprivate static boolean isSpammer(String arg) {\n",
    "\t\tboolean respuesta = false;\n",
    "\t\ttry {\n",
    "\t\t\tInetAddress address = InetAddress.getByName(arg);\n",
    "\t\t\tbyte[] quad = address.getAddress();\n",
    "\t\t\tString query = BLACKHOLE;\n",
    "\t\t\tfor(byte octet : quad) {\n",
    "\t\t\t\tint unsignedByte = octet < 0 ? octet + 256 : octet;\n",
    "\t\t\t\tquery = unsignedByte + \". \" + query;\n",
    " \t\t\t}\n",
    "\t\t\tInetAddress.getByName(query);\n",
    "\t\t\trespuesta = true;\n",
    "\t\t\t\n",
    "\t\t} catch (UnknownHostException e) {\n",
    "\t\t\tSystem.out.println(e);\n",
    "\t\t}\n",
    "\t\treturn respuesta;\n",
    "\t}\n",
    "\n",
    "}\n"
   ]
  },
  {
   "cell_type": "markdown",
   "metadata": {},
   "source": [
    "Link: https://github.com/JulioCe98/Networks_Monitory/tree/master/Guias/Semana%207/Java"
   ]
  },
  {
   "cell_type": "markdown",
   "metadata": {},
   "source": [
    "### 4.2.1 Funcionamiento"
   ]
  },
  {
   "cell_type": "markdown",
   "metadata": {},
   "source": [
    "<img src=\"./Resources/sp1.png\">"
   ]
  }
 ],
 "metadata": {
  "kernelspec": {
   "display_name": "Python 3",
   "language": "python",
   "name": "python3"
  },
  "language_info": {
   "codemirror_mode": {
    "name": "ipython",
    "version": 3
   },
   "file_extension": ".py",
   "mimetype": "text/x-python",
   "name": "python",
   "nbconvert_exporter": "python",
   "pygments_lexer": "ipython3",
   "version": "3.7.1"
  }
 },
 "nbformat": 4,
 "nbformat_minor": 2
}
