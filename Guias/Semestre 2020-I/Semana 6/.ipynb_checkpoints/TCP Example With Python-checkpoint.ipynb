{
 "cells": [
  {
   "cell_type": "markdown",
   "metadata": {},
   "source": [
    "# TCP Connection with Python (calculator)"
   ]
  },
  {
   "cell_type": "markdown",
   "metadata": {},
   "source": [
    "---"
   ]
  },
  {
   "cell_type": "markdown",
   "metadata": {},
   "source": [
    "<img src=\"./Resources/python.jpg\">"
   ]
  },
  {
   "cell_type": "markdown",
   "metadata": {},
   "source": [
    "## 0. Pre-requisitos"
   ]
  },
  {
   "cell_type": "markdown",
   "metadata": {},
   "source": [
    "    1. Se debe tener python instalado para poder correr el programa\n",
    "    2. python --version"
   ]
  },
  {
   "cell_type": "markdown",
   "metadata": {},
   "source": [
    "---"
   ]
  },
  {
   "cell_type": "markdown",
   "metadata": {},
   "source": [
    "## 1. Server.py"
   ]
  },
  {
   "cell_type": "code",
   "execution_count": null,
   "metadata": {},
   "outputs": [],
   "source": [
    "import socket\n",
    "\n",
    "HOST = \"127.0.0.1\"\n",
    "PORT = 5000\n",
    "\n",
    "with socket.socket(socket.AF_INET, socket.SOCK_STREAM) as s:\n",
    "    print(\"Server is waiting for a client...\")\n",
    "    s.bind((HOST, PORT))\n",
    "    s.listen()\n",
    "    while True:\n",
    "        conn, addr = s.accept()\n",
    "        try:\n",
    "            print('Connected by', addr)\n",
    "            while True:\n",
    "                data = conn.recv(1024)\n",
    "                if not data:\n",
    "                    break\n",
    "                else:\n",
    "                    operation = \"\"\n",
    "                    components = data.decode('utf-8')\n",
    "                    components = components.split(\":\")\n",
    "                    if len(components) == 2: \n",
    "                        factors = components[1].split(\";\")\n",
    "                        if factors[0] != \"\" and factors[1] != \"\":\n",
    "                            factors[0] = int(factors[0])\n",
    "                            factors[1] = int(factors[1])\n",
    "                            if components[0] == \"1\":\n",
    "                                    operation = str(factors[0] + factors[1])\n",
    "                            elif components[0] == \"2\":   \n",
    "                                    operation = str(factors[0] - factors[1])\n",
    "                            elif components[0] == \"3\":   \n",
    "                                    operation = str(factors[0] * factors[1])\n",
    "                            else:\n",
    "                                if(factors[1] != 0):\n",
    "                                        operation = str(factors[0] / factors[1])\n",
    "                                else:\n",
    "                                    operation = \"Invalid numbers (div/0)\"\n",
    "                        else:\n",
    "                                  operation = \"Invalid format, one of the numbers is missing\"\n",
    "                    else:\n",
    "                            operation = \"Invalid format, one of the components is missing\"\n",
    "                            \n",
    "                    conn.send(str(operation).encode('utf-8'))\n",
    "        finally:\n",
    "            conn.close()\n",
    "            print(\"Connection was closed\")\n"
   ]
  },
  {
   "cell_type": "markdown",
   "metadata": {},
   "source": [
    "Para poderlo ejecutar, debemos dar el siguiente comando:"
   ]
  },
  {
   "cell_type": "markdown",
   "metadata": {},
   "source": [
    "       py Server.py"
   ]
  },
  {
   "cell_type": "markdown",
   "metadata": {},
   "source": [
    "## 2. Client.py"
   ]
  },
  {
   "cell_type": "code",
   "execution_count": null,
   "metadata": {},
   "outputs": [],
   "source": [
    "import socket\n",
    "\n",
    "\n",
    "HOST = '127.0.0.1'  # The server's hostname or IP address\n",
    "PORT = 5000        # The port used by the server\n",
    "\n",
    "print(\"Hello, this is your Calculator console!\")\n",
    "\n",
    "isWorking = True\n",
    "while isWorking:\n",
    "    print(\"This is the menu :\\n 1) Addition two number\\n 2) Subtract two numbers\\n 3) Multiply two numbers\\n 4) Divide two numbers\\n 5) exit \")\n",
    "    operation = input(\"INFO => ::Write the number of the math op::\")\n",
    "    if int(operation) > 0 and int(operation) < 5:\n",
    "        numbers = input(\"INFO => ::Write two numbers separated by (;)::\")\n",
    "        if \";\" in numbers :\n",
    "            s = socket.socket()\n",
    "            s.connect((HOST, PORT))\n",
    "            try:\n",
    "                    components = operation + \":\" + numbers\n",
    "                    s.send(components.encode('utf-8'))\n",
    "                    data = s.recv(1024)\n",
    "                    print(\":::::::::\")\n",
    "                    print(\":::::::::\")\n",
    "                    print('Answer => ', data)\n",
    "                    print(\":::::::::\")\n",
    "                    print(\":::::::::\")\n",
    "                    s.shutdown(socket.SHUT_WR)\n",
    "                    s.close()\n",
    "            finally:\n",
    "                    print(\"Closing socket\")\n",
    "                   \n",
    "        else:\n",
    "     \n",
    "                print(\"invalid format\")   \n",
    "    elif operation == \"5\":\n",
    "        isWorking = False\n",
    "    else:\n",
    "        print(\"INFO => :: That number is incorrect ::\")\n",
    "            \n",
    "print(\"Calculator off\")\n",
    "    \n"
   ]
  },
  {
   "cell_type": "markdown",
   "metadata": {},
   "source": [
    "---"
   ]
  },
  {
   "cell_type": "markdown",
   "metadata": {},
   "source": [
    "## 3. Download"
   ]
  },
  {
   "cell_type": "markdown",
   "metadata": {},
   "source": [
    "En esta misma carpeta encontraran los .py correspondiente a cada uno"
   ]
  }
 ],
 "metadata": {
  "kernelspec": {
   "display_name": "Python 3",
   "language": "python",
   "name": "python3"
  },
  "language_info": {
   "codemirror_mode": {
    "name": "ipython",
    "version": 3
   },
   "file_extension": ".py",
   "mimetype": "text/x-python",
   "name": "python",
   "nbconvert_exporter": "python",
   "pygments_lexer": "ipython3",
   "version": "3.7.4"
  }
 },
 "nbformat": 4,
 "nbformat_minor": 2
}
