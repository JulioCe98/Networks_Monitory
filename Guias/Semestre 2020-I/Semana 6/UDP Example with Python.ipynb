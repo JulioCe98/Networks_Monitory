{
 "cells": [
  {
   "cell_type": "markdown",
   "metadata": {},
   "source": [
    "## UPD con Python "
   ]
  },
  {
   "cell_type": "markdown",
   "metadata": {},
   "source": [
    "El protocolo de datagramas de usuario (UDP) funciona de forma diferente al TCP/IP. Mientras que TCP es un protocolo orientado a la corriente, que asegura que todos los datos se transmitan en el orden correcto, el UDP es un protocolo orientado a los mensajes. El UDP no requiere una conexión de larga duración, por lo que la configuración de una toma UDP es un poco más simple. "
   ]
  },
  {
   "cell_type": "markdown",
   "metadata": {},
   "source": [
    "Por otra parte, los mensajes UDP deben caber dentro de un solo paquete (para IPv4, eso significa que sólo pueden contener 65.507 bytes porque el paquete de 65.535 bytes también incluye información de cabecera) y la entrega no está garantizada como ocurre con TCP."
   ]
  },
  {
   "cell_type": "markdown",
   "metadata": {},
   "source": [
    "<img src=\"https://2.bp.blogspot.com/-obs52hAZL-E/WGD8_x9caLI/AAAAAAAAAhI/FgreOO7QK3Mkk8XRRNwo0cdPzLCOJNZXwCPcB/s640/pyt.png\">"
   ]
  },
  {
   "cell_type": "markdown",
   "metadata": {},
   "source": [
    "## Ejemplo Chat "
   ]
  },
  {
   "cell_type": "markdown",
   "metadata": {},
   "source": [
    "### Servidor"
   ]
  },
  {
   "cell_type": "code",
   "execution_count": null,
   "metadata": {},
   "outputs": [],
   "source": [
    "\n",
    "import socket\n",
    "\n",
    "#Definimos la ip de la entrada de mensajes\n",
    "localIP = \"127.0.0.1\"\n",
    "\n",
    "#Escogemos el puerto entre los disponibles \n",
    "localPort = 20001\n",
    "\n",
    "#Definimos el tamano del buffer\n",
    "bufferSize = 1024\n",
    "\n",
    "msgFromServer = \"Hello UDP Client\"\n",
    "\n",
    "bytesToSend = str.encode(msgFromServer)\n",
    "\n",
    "# Creamos el datagram socket\n",
    "\n",
    "UDPServerSocket = socket.socket(family=socket.AF_INET, type=socket.SOCK_DGRAM)\n",
    "\n",
    "# Conectamos la direccion ip con el puerto\n",
    "\n",
    "UDPServerSocket.bind((localIP, localPort))\n",
    "\n",
    "print(\"UDP server up and listening\")\n",
    "\n",
    "# Escuchamos los datagramas que vengan de los clientes\n",
    "\n",
    "while (True):\n",
    "    bytesAddressPair = UDPServerSocket.recvfrom(bufferSize)\n",
    "\n",
    "    message = bytesAddressPair[0]\n",
    "\n",
    "    address = bytesAddressPair[1]\n",
    "    #Mensajes de los clientes\n",
    "    clientMsg = \"Message from Client:{}\".format(message)\n",
    "    clientIP = \"Client IP Address:{}\".format(address)\n",
    "\n",
    "    print(clientMsg)\n",
    "    print(clientIP)\n",
    "\n",
    "    # Mandamos un reply al cliente \n",
    "\n",
    "    UDPServerSocket.sendto(bytesToSend, address)"
   ]
  },
  {
   "cell_type": "markdown",
   "metadata": {},
   "source": [
    "### Cliente"
   ]
  },
  {
   "cell_type": "code",
   "execution_count": null,
   "metadata": {},
   "outputs": [],
   "source": [
    "import socket\n",
    "\n",
    "msgFromClient = \"Hello UDP Server\"\n",
    "\n",
    "bytesToSend = str.encode(msgFromClient)\n",
    "\n",
    "serverAddressPort = (\"127.0.0.1\", 20001)\n",
    "\n",
    "bufferSize = 1024\n",
    "\n",
    "# Creamos el socket udp por el lado del cliente\n",
    "\n",
    "UDPClientSocket = socket.socket(family=socket.AF_INET, type=socket.SOCK_DGRAM)\n",
    "\n",
    "# Mandamos el mensaje utilizando el socked de cliente UDP\n",
    "\n",
    "UDPClientSocket.sendto(bytesToSend, serverAddressPort)\n",
    "\n",
    "msgFromServer = UDPClientSocket.recvfrom(bufferSize)\n",
    "\n",
    "msg = \"Message from Server {}\".format(msgFromServer[0])\n",
    "\n",
    "print(msg)\n",
    "\n"
   ]
  },
  {
   "cell_type": "markdown",
   "metadata": {},
   "source": [
    "## Ejemplo Audio"
   ]
  },
  {
   "cell_type": "markdown",
   "metadata": {},
   "source": [
    "### Instalacion PyAudio"
   ]
  },
  {
   "cell_type": "markdown",
   "metadata": {},
   "source": [
    "Se trata de un binding en Python de la conocida librería de audio I/O multi-plataforma y open source PortAudio. El objetivo es capturar una señal de audio a través del micrófono de nuestro ordenador, para luego visualizar su representación temporal y también su representación frecuencial"
   ]
  },
  {
   "cell_type": "markdown",
   "metadata": {},
   "source": [
    "``pip install -m pyAudio``"
   ]
  },
  {
   "cell_type": "markdown",
   "metadata": {},
   "source": [
    "En caso de tener problemas con la instalación, es probable que sea por un problema en Wheel que se construye con respecto a tu versión de python. En ese caso miramos nuestra version con el comando de python en consola. Miramos la carpeta de pyaudio en los archivos anexos para obtener las versiones compatibles."
   ]
  },
  {
   "cell_type": "markdown",
   "metadata": {},
   "source": [
    "``python``"
   ]
  },
  {
   "cell_type": "markdown",
   "metadata": {},
   "source": [
    "Les aparecerá algo tal que así"
   ]
  },
  {
   "cell_type": "markdown",
   "metadata": {},
   "source": [
    "``Python 3.7.3 (default, Apr 24 2019, 15:29:51) [MSC v.1915 64 bit (AMD64)] :: Anaconda, Inc. on win32``"
   ]
  },
  {
   "cell_type": "markdown",
   "metadata": {},
   "source": [
    "De acuerdo a su versión instalan con el comando pip installa ARCHIVO, indicando el nombre con su versión compatible, en caso de que no funcione la versión intentar con las demas"
   ]
  },
  {
   "cell_type": "markdown",
   "metadata": {},
   "source": [
    "## Servidor"
   ]
  },
  {
   "cell_type": "code",
   "execution_count": null,
   "metadata": {},
   "outputs": [],
   "source": [
    "import socket\n",
    "import Pyaudio\n",
    "from threading import Thread\n",
    "\n",
    "frames = []\n",
    "\n",
    "def udpStream():\n",
    "    udp = socket.socket(socket.AF_INET, socket.SOCK_DGRAM)\n",
    "\n",
    "    while True:\n",
    "        if len(frames) > 0:\n",
    "            udp.sendto(frames.pop(0), (\"127.0.0.1\", 12345)) #\n",
    "    udp.close()\n",
    "\n",
    "def record(stream, CHUNK):\n",
    "    while True:\n",
    "        frames.append(stream.read(CHUNK))\n",
    "\n",
    "if __name__ == \"__main__\":\n",
    "    CHUNK = 1024\n",
    "    FORMAT = pyaudio.paInt16 #Decodificacion del audioo\n",
    "    CHANNELS = 2 #Escoger si es sterio o mono\n",
    "    RATE = 44100 #El rate del audio\n",
    "\n",
    "    Audio = pyaudio.PyAudio()\n",
    "\n",
    "    stream = Audio.open(format = FORMAT,\n",
    "                    channels = CHANNELS,\n",
    "                    rate = RATE,\n",
    "                    input = True,\n",
    "                    frames_per_buffer = CHUNK,\n",
    "                    )\n",
    "\n",
    "#Inicializacion de hilos\n",
    "    AudioThread = Thread(target = record, args = (stream, CHUNK,))\n",
    "    udpThread = Thread(target = udpStream)\n",
    "    AudioThread.setDaemon(True)\n",
    "    udpThread.setDaemon(True)\n",
    "    AudioThread.start()\n",
    "    udpThread.start()\n",
    "    AudioThread.join()\n",
    "    udpThread.join()\n"
   ]
  },
  {
   "cell_type": "markdown",
   "metadata": {},
   "source": [
    "### Cliente"
   ]
  },
  {
   "cell_type": "code",
   "execution_count": null,
   "metadata": {},
   "outputs": [],
   "source": [
    "import pyaudio\n",
    "import socket\n",
    "from threading import Thread\n",
    "\n",
    "frames = []\n",
    "\n",
    "def udpStream(CHUNK):\n",
    "\n",
    "    udp = socket.socket(socket.AF_INET, socket.SOCK_DGRAM)\n",
    "    udp.bind((\"127.0.0.1\", 12345))\n",
    "\n",
    "    while True:\n",
    "        soundData, addr = udp.recvfrom(CHUNK*CHANNELS*2)\n",
    "        frames.append(soundData)\n",
    "    udp.close()\n",
    "\n",
    "def play(stream, CHUNK):\n",
    "    BUFFER = 10\n",
    "    while True:\n",
    "            if len(frames) == BUFFER:\n",
    "                while True:\n",
    "                    stream.write(frames.pop(0), CHUNK)\n",
    "\n",
    "if __name__ == \"__main__\":\n",
    "    FORMAT = pyaudio.paInt16\n",
    "    CHUNK = 1024\n",
    "    CHANNELS = 2\n",
    "    RATE = 44100\n",
    "\n",
    "    Audio = pyaudio.PyAudio()\n",
    "\n",
    "    stream = Audio.open(format=FORMAT,\n",
    "                    channels = CHANNELS,\n",
    "                    rate = RATE,\n",
    "                    output = True,\n",
    "                    frames_per_buffer = CHUNK,\n",
    "                    )\n",
    "\n",
    "    udpThread  = Thread(target = udpStream, args=(CHUNK,))\n",
    "    AudioThread  = Thread(target = play, args=(stream, CHUNK,))\n",
    "    udpThread .setDaemon(True)\n",
    "    AudioThread.setDaemon(True)\n",
    "    udpThread .start()\n",
    "    AudioThread.start()\n",
    "    udpThread .join()\n",
    "    AudioThread.join()"
   ]
  }
 ],
 "metadata": {
  "kernelspec": {
   "display_name": "Python 3",
   "language": "python",
   "name": "python3"
  },
  "language_info": {
   "codemirror_mode": {
    "name": "ipython",
    "version": 3
   },
   "file_extension": ".py",
   "mimetype": "text/x-python",
   "name": "python",
   "nbconvert_exporter": "python",
   "pygments_lexer": "ipython3",
   "version": "3.7.3"
  }
 },
 "nbformat": 4,
 "nbformat_minor": 2
}
