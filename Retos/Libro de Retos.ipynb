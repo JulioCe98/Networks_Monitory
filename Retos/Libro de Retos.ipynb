{
 "cells": [
  {
   "cell_type": "markdown",
   "metadata": {},
   "source": [
    "# Libro de retos"
   ]
  },
  {
   "cell_type": "markdown",
   "metadata": {},
   "source": [
    "## Reto 1 : Encriptacion Cesar"
   ]
  },
  {
   "cell_type": "markdown",
   "metadata": {},
   "source": [
    "Un cliente desea enviar una palabra cualquiera a un servidor. Este debera encriptar la palabra usando **Encriptacion cesar**, bajo una clave random (del 1-20). Una vez encriptada, debe ser enviada la palabra resultante al cliente, pero anexandole la clave que fue usada en el cesar, encriptada en hexadecimal (utilice google para buscar herramientas de encriptacion en hexadecimal). \n",
    "\n",
    "**FLAG** : Screenshot de la encriptacion exitosa. Debe evidenciarse la palabra original, mas la clave en hexadecimal + la palabra resultante + screenshot del desencriptado de la clave en hexadecimal, evidenciandose que al restarle ese valor a la palabra resultante, vuelva a la original.\n",
    "\n",
    "**Estrellas** : 2\n",
    "\n",
    "**Alcance** : 3 primeras personas"
   ]
  },
  {
   "cell_type": "markdown",
   "metadata": {},
   "source": [
    "## Reto 1.5 : Encriptacion Cesar Plus"
   ]
  },
  {
   "cell_type": "markdown",
   "metadata": {},
   "source": [
    "Un cliente desea enviar una palabra cualquiera a un servidor. Este debera encriptar la palabra usando **Encriptacion cesar**, bajo una clave random (del 1-20). Una vez encriptada, debe ser enviada la palabra resultante al cliente, pero anexandole la clave que fue usada en el cesar, encriptada en hexadecimal (utilice google para buscar herramientas de encriptacion en hexadecimal). \n",
    "\n",
    "**FLAG** : Además de obtener la ecriptación éxito, se debe evidenciar el paso de mensajes en una red atravez de una captura de Wireshark, evidenciando que el mensaje fue entregado entre el cliente-servidor en dos ordenadores diferentes. Mostrando el mensaje ademas de la evidencia de la dirección de origen y de destino. \n",
    "\n",
    "**Estrellas** : 3\n",
    "\n",
    "**Alcance** : 2 personas"
   ]
  },
  {
   "cell_type": "markdown",
   "metadata": {},
   "source": [
    "## Reto 2 : Sync en Hilos\n"
   ]
  },
  {
   "cell_type": "markdown",
   "metadata": {},
   "source": [
    "De acuerdo con la explicacion dada por el monitor a cargo, usted debera implementar una solucion que le permita syncronizar los hilos, de tal forma que la variable global se incremente dependiendo del hilo que se coloque en ejecucion.\n",
    "\n",
    "**FLAG**: ScreenShot evidenciando el codigo + Respuesta exitosa por consola\n",
    "\n",
    "**Validez** : Antes de la **SEMANA 5**\n",
    "\n",
    "**Estrellas** : 4\n",
    "\n",
    "**Alcance** : 2 primeras personas"
   ]
  },
  {
   "cell_type": "markdown",
   "metadata": {},
   "source": [
    "# Reto 3: TCP Repository Remoto"
   ]
  },
  {
   "cell_type": "markdown",
   "metadata": {},
   "source": [
    "Nuestro cliente ha deseado que el repositorio remoto pueda ser consultado remotamente. Para ello desea que conecte dos equipos y evidencie que puede traer un archivo de uno al otro\n",
    "\n",
    "**Flag** : Screenshot de las ip de ambos equipos impresos por la consola de java + Videoclip del funcionamiento entre ambos equipos\n",
    "\n",
    "**Estrellas** : 1\n",
    "\n",
    "**Alcance** : 2 primeras personas"
   ]
  },
  {
   "cell_type": "markdown",
   "metadata": {},
   "source": [
    "# Reto 4 : TCP"
   ]
  },
  {
   "cell_type": "markdown",
   "metadata": {},
   "source": [
    "Nuestro cliente desea conocer su ip y puerto , accediendo a un servidor remoto, pero no sabe como volver el servidor local de manera remota. Su tarea es poder acceder al servidor desde otro equipo y que este responda con la ip que corresponde a su equipo (ipconfig, ifconfig)\n",
    "\n",
    "**Flag** : Screenshot de las ip de ambos equipos + videoclip del funcionamiento entre ambos\n",
    "\n",
    "**Estrellas** : 1\n",
    "\n",
    "**Alcance** : 3 primeras personas"
   ]
  },
  {
   "cell_type": "markdown",
   "metadata": {},
   "source": [
    "# Reto 5 : Ejemplos propuestos por los estudiantes"
   ]
  },
  {
   "cell_type": "markdown",
   "metadata": {},
   "source": [
    "Los estudiantes deberan tener la capacidad de proponer sus propios ejemplos, los mejores tendran una recompensa!\n",
    "\n",
    "**Flag** : Calificacion en clase\n",
    "\n",
    "**Validez** : **SEMANA 10**\n",
    "\n",
    "**Estrellas** : 1-3\n"
   ]
  },
  {
   "cell_type": "markdown",
   "metadata": {},
   "source": [
    "# Reto 6 : SSHCrack (Hacknet)"
   ]
  },
  {
   "cell_type": "markdown",
   "metadata": {},
   "source": [
    "Obtenga el SSHCrack en el juego.\n",
    "\n",
    "**Flag** : Screenshot donde se evidencie el .exe (use el comando exe en la consola) + su direccion ip del juego para saber que fue usted quien lo hizo\n",
    "\n",
    "**Estrellas** : 1"
   ]
  },
  {
   "cell_type": "markdown",
   "metadata": {},
   "source": [
    "# Reto 7 : Ingreso a entropy (Hacknet)"
   ]
  },
  {
   "cell_type": "markdown",
   "metadata": {},
   "source": [
    "Reciba el correo donde se evidencie que ha sido ingresado a grupo de hackers entropy\n",
    "\n",
    "**Flag** : Screenshot del correo donde se vea su ip y el correo recibido\n",
    "    \n",
    "**Estrellas** :2"
   ]
  },
  {
   "cell_type": "markdown",
   "metadata": {},
   "source": [
    "<img src=\"./Resources/7.png\">"
   ]
  },
  {
   "cell_type": "markdown",
   "metadata": {},
   "source": [
    "# Reto 8 : Completar el reto de PointClicker (Hacknet)"
   ]
  },
  {
   "cell_type": "markdown",
   "metadata": {},
   "source": [
    "Reciba el correo donde se evidencie que ha cumplido con el contrato\n",
    "\n",
    "**Flag** : Screenshot del correo donde se vea la ip y el correo recibido\n",
    "    \n",
    "**Estrellas** : 1"
   ]
  },
  {
   "cell_type": "markdown",
   "metadata": {},
   "source": [
    "<img src=\"./Resources/8.png\">\n"
   ]
  },
  {
   "cell_type": "markdown",
   "metadata": {},
   "source": [
    "# Reto 9 : Vuelta a Clase (Hacknet)"
   ]
  },
  {
   "cell_type": "markdown",
   "metadata": {},
   "source": [
    "Reciba el correo donde se evidencie que ha cumplido con el contrato\n",
    "\n",
    "**Flag** : Screenshot del correo donde se vea la ip y el correo recibido\n",
    "    \n",
    "**Estrellas** : 1"
   ]
  },
  {
   "cell_type": "markdown",
   "metadata": {},
   "source": [
    "<img src=\"./Resources/9.png\">"
   ]
  },
  {
   "cell_type": "markdown",
   "metadata": {},
   "source": [
    "# Reto 10 : Analisis de Eos (Hacknet)"
   ]
  },
  {
   "cell_type": "markdown",
   "metadata": {},
   "source": [
    "Reciba el correo donde se evidencie que ha cumplido con el contrato\n",
    "\n",
    "**Flag** : Screenshot del correo donde se vea la ip y el correo recibido\n",
    "    \n",
    "**Estrellas** : 1"
   ]
  },
  {
   "cell_type": "markdown",
   "metadata": {},
   "source": [
    "<img src=\"./Resources/10.png\">"
   ]
  },
  {
   "cell_type": "markdown",
   "metadata": {},
   "source": [
    "# Reto 11 : Investigaciones internas (Hacknet)"
   ]
  },
  {
   "cell_type": "markdown",
   "metadata": {},
   "source": [
    "Reciba el correo donde se evidencie que ha cumplido con el contrato\n",
    "\n",
    "**Flag** : Screenshot del correo donde se vea la ip y el correo recibido\n",
    "    \n",
    "**Estrellas** : 1"
   ]
  },
  {
   "cell_type": "markdown",
   "metadata": {},
   "source": [
    "<img src=\"./Resources/11.png\">"
   ]
  },
  {
   "cell_type": "markdown",
   "metadata": {},
   "source": [
    "# Reto 12 : La agresion se debe castigar (Hacknet)"
   ]
  },
  {
   "cell_type": "markdown",
   "metadata": {},
   "source": [
    "Reciba el correo donde se evidencie que ha sido cumplido con el contrato\n",
    "\n",
    "**Flag** : Screenshot del correo donde se vea la ip y el correo recibido\n",
    "    \n",
    "**Estrellas** : 1"
   ]
  },
  {
   "cell_type": "markdown",
   "metadata": {},
   "source": [
    "<img src=\"./Resources/12.png\">"
   ]
  },
  {
   "cell_type": "markdown",
   "metadata": {},
   "source": [
    "# Reto 13 : Conseguir un X-server.sys (Hacknet)"
   ]
  },
  {
   "cell_type": "markdown",
   "metadata": {},
   "source": [
    "**Flag** : Screenshotde la nueva interfaz grafica donde se vea la ip y el correo recibido\n",
    "    \n",
    "**Estrellas** : 2"
   ]
  },
  {
   "cell_type": "markdown",
   "metadata": {},
   "source": [
    "<img src=\"./Resources/13.png\">"
   ]
  },
  {
   "cell_type": "markdown",
   "metadata": {},
   "source": [
    "# Reto 14 : IP servidores Macrosoft (Hacknet)"
   ]
  },
  {
   "cell_type": "markdown",
   "metadata": {},
   "source": [
    "Reciba el correo donde se evidencie que ha cumplido con el contrato\n",
    "\n",
    "**Flag** : Screenshot del correo donde se vea la ip y el correo recibido\n",
    "    \n",
    "**Estrellas** : 1"
   ]
  },
  {
   "cell_type": "markdown",
   "metadata": {},
   "source": [
    "# Reto 15 : Recibir invitacion de CSEC (Hacknet)"
   ]
  },
  {
   "cell_type": "markdown",
   "metadata": {},
   "source": [
    "Reciba el correo donde se evidencie la invitacion del grupo CSEC\n",
    "\n",
    "**Flag** : Screenshot del correo donde se vea la ip y el correo recibido\n",
    "    \n",
    "**Estrellas** : 1"
   ]
  },
  {
   "cell_type": "markdown",
   "metadata": {},
   "source": [
    "<img src=\"./Resources/15.png\">"
   ]
  },
  {
   "cell_type": "markdown",
   "metadata": {},
   "source": [
    "# Reto 16 : Entrada a CSEC (Hacknet)"
   ]
  },
  {
   "cell_type": "markdown",
   "metadata": {},
   "source": [
    "Reciba el correo donde se evidencie que ha sido ingresado al grupo de hackers\n",
    "\n",
    "**Flag** : Screenshot del correo donde se vea la ip y el correo recibido\n",
    "    \n",
    "**Estrellas** : 3"
   ]
  },
  {
   "cell_type": "markdown",
   "metadata": {},
   "source": [
    "<img src=\"./Resources/16.png\">"
   ]
  },
  {
   "cell_type": "markdown",
   "metadata": {},
   "source": [
    "# Reto 17 : Obtenga el WebServerWorm (Hacknet)"
   ]
  },
  {
   "cell_type": "markdown",
   "metadata": {},
   "source": [
    "Obtenga el WebServerWorm en el juego.\n",
    "\n",
    "**Flag** : Screenshot donde se evidencie el .exe (use el comando exe en la consola) + su direccion ip del juego para saber que fue usted quien lo hizo\n",
    "\n",
    "**Estrellas** : 1"
   ]
  },
  {
   "cell_type": "markdown",
   "metadata": {},
   "source": [
    "# Reto 18 : Obtenga el FTPBouncer (Hacknet)"
   ]
  },
  {
   "cell_type": "markdown",
   "metadata": {},
   "source": [
    "Obtenga el FTPBouncer en el juego.\n",
    "\n",
    "**Flag** : Screenshot donde se evidencie el .exe (use el comando exe en la consola) + su direccion ip del juego para saber que fue usted quien lo hizo\n",
    "\n",
    "**Estrellas** : 1"
   ]
  },
  {
   "cell_type": "markdown",
   "metadata": {},
   "source": [
    "# Reto 19 : Obtenga el SMTP (Hacknet)"
   ]
  },
  {
   "cell_type": "markdown",
   "metadata": {},
   "source": [
    "Obtenga el SMTP... en el juego.\n",
    "\n",
    "**Flag** : Screenshot donde se evidencie el .exe (use el comando exe en la consola) + su direccion ip del juego para saber que fue usted quien lo hizo\n",
    "\n",
    "**Estrellas** : 1"
   ]
  },
  {
   "cell_type": "markdown",
   "metadata": {},
   "source": [
    "# Reto 20 : El famoso Contra-Hackeo (Hacknet)"
   ]
  },
  {
   "cell_type": "markdown",
   "metadata": {},
   "source": [
    "Reciba el correo donde se evidencie que ha cumplido con el contrato\n",
    "\n",
    "**Flag** : Screenshot del correo donde se vea la ip y el correo recibido\n",
    "    \n",
    "**Estrellas** : 1"
   ]
  },
  {
   "cell_type": "markdown",
   "metadata": {},
   "source": [
    "<img src=\"./Resources/20.png\">"
   ]
  },
  {
   "cell_type": "markdown",
   "metadata": {},
   "source": [
    "# Reto 21 : HTML + CSS"
   ]
  },
  {
   "cell_type": "markdown",
   "metadata": {},
   "source": [
    "Realice la siguiente imagen en HTML usando css\n",
    "\n",
    "**Flag** : Envio de ambos archivos marcados con su nombre (.html + .css)\n",
    "    \n",
    "**Estrellas** : 2\n",
    "\n",
    "**Deben ser 3 archivos** : El de contacto tambien cuenta!"
   ]
  },
  {
   "cell_type": "markdown",
   "metadata": {},
   "source": [
    "<img src=\"./Resources/21-1.png\">"
   ]
  },
  {
   "cell_type": "markdown",
   "metadata": {},
   "source": [
    "<img src=\"./Resources/21-2.png\">"
   ]
  }
 ],
 "metadata": {
  "kernelspec": {
   "display_name": "Python 3",
   "language": "python",
   "name": "python3"
  },
  "language_info": {
   "codemirror_mode": {
    "name": "ipython",
    "version": 3
   },
   "file_extension": ".py",
   "mimetype": "text/x-python",
   "name": "python",
   "nbconvert_exporter": "python",
   "pygments_lexer": "ipython3",
   "version": "3.7.3"
  }
 },
 "nbformat": 4,
 "nbformat_minor": 2
}
